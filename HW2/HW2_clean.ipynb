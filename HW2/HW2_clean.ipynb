{
 "cells": [
  {
   "cell_type": "markdown",
   "id": "609dcb62-c2f8-4c6d-9c89-63dc0148a87c",
   "metadata": {
    "id": "609dcb62-c2f8-4c6d-9c89-63dc0148a87c"
   },
   "source": [
    "<div align=\"center\">\n",
    "\n",
    "###### Lab 2\n",
    "\n",
    "# National Tsing Hua University\n",
    "\n",
    "#### Spring 2025\n",
    "\n",
    "#### 11320IEEM 513600\n",
    "\n",
    "#### Deep Learning and Industrial Applications\n",
    "    \n",
    "## Lab 2: Predicting Heart Disease with Deep Learning\n",
    "\n",
    "</div>"
   ]
  },
  {
   "cell_type": "markdown",
   "id": "061c22d2-eec4-40f4-866b-ccaa2d9a2963",
   "metadata": {
    "id": "061c22d2-eec4-40f4-866b-ccaa2d9a2963",
    "tags": []
   },
   "source": [
    "### Introduction\n",
    "\n",
    "In the realm of healthcare, early detection and accurate prediction of diseases play a crucial role in patient care and management. Heart disease remains one of the leading causes of mortality worldwide, making the development of effective diagnostic tools essential. This lab leverages deep learning to predict the presence of heart disease in patients using a subset of 14 key attributes from the Cleveland Heart Disease Database. The objective is to explore and apply deep learning techniques to distinguish between the presence and absence of heart disease based on clinical parameters.\n",
    "\n",
    "Throughout this lab, you'll engage with the following key activities:\n",
    "- Use [Pandas](https://pandas.pydata.org) to process the CSV files.\n",
    "- Use [PyTorch](https://pytorch.org) to build an Artificial Neural Network (ANN) to fit the dataset.\n",
    "- Evaluate the performance of the trained model to understand its accuracy.\n",
    "\n",
    "### Attribute Information\n",
    "\n",
    "1. age: Age of the patient in years\n",
    "2. sex: (Male/Female)\n",
    "3. cp: Chest pain type (4 types: low, medium, high, and severe)\n",
    "4. trestbps: Resting blood pressure\n",
    "5. chol: Serum cholesterol in mg/dl\n",
    "6. fbs: Fasting blood sugar > 120 mg/dl\n",
    "7. restecg: Resting electrocardiographic results (values 0,1,2)\n",
    "8. thalach: Maximum heart rate achieved\n",
    "9. exang: Exercise induced angina\n",
    "10. oldpeak: Oldpeak = ST depression induced by exercise relative to rest\n",
    "11. slope: The slope of the peak exercise ST segment\n",
    "12. ca: Number of major vessels (0-3) colored by fluoroscopy\n",
    "13. thal: 3 = normal; 6 = fixed defect; 7 = reversible defect\n",
    "14. target: target have disease or not (1=yes, 0=no)\n",
    "\n",
    "### References\n",
    "- [UCI Heart Disease Data](https://www.kaggle.com/datasets/redwankarimsony/heart-disease-data) for the dataset we use in this lab.\n"
   ]
  },
  {
   "cell_type": "markdown",
   "id": "ad594fc8-4989-40f3-b124-4550fe7df386",
   "metadata": {
    "id": "ad594fc8-4989-40f3-b124-4550fe7df386"
   },
   "source": [
    "## A. Checking and Preprocessing"
   ]
  },
  {
   "cell_type": "code",
   "execution_count": null,
   "id": "pfITSFq7skol",
   "metadata": {
    "colab": {
     "base_uri": "https://localhost:8080/"
    },
    "id": "pfITSFq7skol",
    "outputId": "823174c6-0941-4e47-b8b2-ade35f2cd8e4"
   },
   "outputs": [
    {
     "name": "stdout",
     "output_type": "stream",
     "text": [
      "Mounted at /content/drive\n"
     ]
    }
   ],
   "source": [
    "from google.colab import drive\n",
    "drive.mount('/content/drive')"
   ]
  },
  {
   "cell_type": "code",
   "execution_count": null,
   "id": "42a3eafd-cbcd-4c56-82cb-83a0bfa2399e",
   "metadata": {
    "colab": {
     "base_uri": "https://localhost:8080/",
     "height": 423
    },
    "id": "42a3eafd-cbcd-4c56-82cb-83a0bfa2399e",
    "outputId": "2a420804-84bb-42fe-99f8-5f7a2452d99e"
   },
   "outputs": [
    {
     "data": {
      "text/html": [
       "<div>\n",
       "<style scoped>\n",
       "    .dataframe tbody tr th:only-of-type {\n",
       "        vertical-align: middle;\n",
       "    }\n",
       "\n",
       "    .dataframe tbody tr th {\n",
       "        vertical-align: top;\n",
       "    }\n",
       "\n",
       "    .dataframe thead th {\n",
       "        text-align: right;\n",
       "    }\n",
       "</style>\n",
       "<table border=\"1\" class=\"dataframe\">\n",
       "  <thead>\n",
       "    <tr style=\"text-align: right;\">\n",
       "      <th></th>\n",
       "      <th>age</th>\n",
       "      <th>sex</th>\n",
       "      <th>cp</th>\n",
       "      <th>trestbps</th>\n",
       "      <th>chol</th>\n",
       "      <th>fbs</th>\n",
       "      <th>restecg</th>\n",
       "      <th>thalach</th>\n",
       "      <th>exang</th>\n",
       "      <th>oldpeak</th>\n",
       "      <th>slope</th>\n",
       "      <th>ca</th>\n",
       "      <th>thal</th>\n",
       "      <th>target</th>\n",
       "    </tr>\n",
       "  </thead>\n",
       "  <tbody>\n",
       "    <tr>\n",
       "      <th>0</th>\n",
       "      <td>41</td>\n",
       "      <td>Male</td>\n",
       "      <td>medium</td>\n",
       "      <td>105.0</td>\n",
       "      <td>198.0</td>\n",
       "      <td>0</td>\n",
       "      <td>1.0</td>\n",
       "      <td>168.0</td>\n",
       "      <td>0</td>\n",
       "      <td>0.0</td>\n",
       "      <td>2.0</td>\n",
       "      <td>1</td>\n",
       "      <td>2.0</td>\n",
       "      <td>1.0</td>\n",
       "    </tr>\n",
       "    <tr>\n",
       "      <th>1</th>\n",
       "      <td>65</td>\n",
       "      <td>Female</td>\n",
       "      <td>low</td>\n",
       "      <td>120.0</td>\n",
       "      <td>177.0</td>\n",
       "      <td>0</td>\n",
       "      <td>1.0</td>\n",
       "      <td>140.0</td>\n",
       "      <td>0</td>\n",
       "      <td>0.4</td>\n",
       "      <td>2.0</td>\n",
       "      <td>0</td>\n",
       "      <td>3.0</td>\n",
       "      <td>1.0</td>\n",
       "    </tr>\n",
       "    <tr>\n",
       "      <th>2</th>\n",
       "      <td>44</td>\n",
       "      <td>Female</td>\n",
       "      <td>medium</td>\n",
       "      <td>130.0</td>\n",
       "      <td>219.0</td>\n",
       "      <td>0</td>\n",
       "      <td>0.0</td>\n",
       "      <td>188.0</td>\n",
       "      <td>0</td>\n",
       "      <td>0.0</td>\n",
       "      <td>2.0</td>\n",
       "      <td>0</td>\n",
       "      <td>2.0</td>\n",
       "      <td>1.0</td>\n",
       "    </tr>\n",
       "    <tr>\n",
       "      <th>3</th>\n",
       "      <td>54</td>\n",
       "      <td>Female</td>\n",
       "      <td>high</td>\n",
       "      <td>125.0</td>\n",
       "      <td>273.0</td>\n",
       "      <td>0</td>\n",
       "      <td>0.0</td>\n",
       "      <td>152.0</td>\n",
       "      <td>0</td>\n",
       "      <td>0.5</td>\n",
       "      <td>0.0</td>\n",
       "      <td>1</td>\n",
       "      <td>2.0</td>\n",
       "      <td>1.0</td>\n",
       "    </tr>\n",
       "    <tr>\n",
       "      <th>4</th>\n",
       "      <td>51</td>\n",
       "      <td>Female</td>\n",
       "      <td>severe</td>\n",
       "      <td>125.0</td>\n",
       "      <td>213.0</td>\n",
       "      <td>0</td>\n",
       "      <td>0.0</td>\n",
       "      <td>125.0</td>\n",
       "      <td>1</td>\n",
       "      <td>1.4</td>\n",
       "      <td>2.0</td>\n",
       "      <td>1</td>\n",
       "      <td>2.0</td>\n",
       "      <td>1.0</td>\n",
       "    </tr>\n",
       "    <tr>\n",
       "      <th>...</th>\n",
       "      <td>...</td>\n",
       "      <td>...</td>\n",
       "      <td>...</td>\n",
       "      <td>...</td>\n",
       "      <td>...</td>\n",
       "      <td>...</td>\n",
       "      <td>...</td>\n",
       "      <td>...</td>\n",
       "      <td>...</td>\n",
       "      <td>...</td>\n",
       "      <td>...</td>\n",
       "      <td>...</td>\n",
       "      <td>...</td>\n",
       "      <td>...</td>\n",
       "    </tr>\n",
       "    <tr>\n",
       "      <th>268</th>\n",
       "      <td>40</td>\n",
       "      <td>Female</td>\n",
       "      <td>low</td>\n",
       "      <td>110.0</td>\n",
       "      <td>167.0</td>\n",
       "      <td>0</td>\n",
       "      <td>0.0</td>\n",
       "      <td>114.0</td>\n",
       "      <td>1</td>\n",
       "      <td>2.0</td>\n",
       "      <td>1.0</td>\n",
       "      <td>0</td>\n",
       "      <td>3.0</td>\n",
       "      <td>0.0</td>\n",
       "    </tr>\n",
       "    <tr>\n",
       "      <th>269</th>\n",
       "      <td>60</td>\n",
       "      <td>Female</td>\n",
       "      <td>low</td>\n",
       "      <td>117.0</td>\n",
       "      <td>230.0</td>\n",
       "      <td>1</td>\n",
       "      <td>1.0</td>\n",
       "      <td>160.0</td>\n",
       "      <td>1</td>\n",
       "      <td>1.4</td>\n",
       "      <td>2.0</td>\n",
       "      <td>2</td>\n",
       "      <td>3.0</td>\n",
       "      <td>0.0</td>\n",
       "    </tr>\n",
       "    <tr>\n",
       "      <th>270</th>\n",
       "      <td>64</td>\n",
       "      <td>Female</td>\n",
       "      <td>high</td>\n",
       "      <td>140.0</td>\n",
       "      <td>335.0</td>\n",
       "      <td>0</td>\n",
       "      <td>1.0</td>\n",
       "      <td>158.0</td>\n",
       "      <td>0</td>\n",
       "      <td>0.0</td>\n",
       "      <td>2.0</td>\n",
       "      <td>0</td>\n",
       "      <td>2.0</td>\n",
       "      <td>0.0</td>\n",
       "    </tr>\n",
       "    <tr>\n",
       "      <th>271</th>\n",
       "      <td>43</td>\n",
       "      <td>Female</td>\n",
       "      <td>low</td>\n",
       "      <td>120.0</td>\n",
       "      <td>177.0</td>\n",
       "      <td>0</td>\n",
       "      <td>0.0</td>\n",
       "      <td>120.0</td>\n",
       "      <td>1</td>\n",
       "      <td>2.5</td>\n",
       "      <td>1.0</td>\n",
       "      <td>0</td>\n",
       "      <td>3.0</td>\n",
       "      <td>0.0</td>\n",
       "    </tr>\n",
       "    <tr>\n",
       "      <th>272</th>\n",
       "      <td>57</td>\n",
       "      <td>Female</td>\n",
       "      <td>low</td>\n",
       "      <td>150.0</td>\n",
       "      <td>276.0</td>\n",
       "      <td>0</td>\n",
       "      <td>0.0</td>\n",
       "      <td>112.0</td>\n",
       "      <td>1</td>\n",
       "      <td>0.6</td>\n",
       "      <td>1.0</td>\n",
       "      <td>1</td>\n",
       "      <td>1.0</td>\n",
       "      <td>0.0</td>\n",
       "    </tr>\n",
       "  </tbody>\n",
       "</table>\n",
       "<p>273 rows × 14 columns</p>\n",
       "</div>"
      ],
      "text/plain": [
       "     age     sex      cp  trestbps   chol  fbs  restecg  thalach  exang  \\\n",
       "0     41    Male  medium     105.0  198.0    0      1.0    168.0      0   \n",
       "1     65  Female     low     120.0  177.0    0      1.0    140.0      0   \n",
       "2     44  Female  medium     130.0  219.0    0      0.0    188.0      0   \n",
       "3     54  Female    high     125.0  273.0    0      0.0    152.0      0   \n",
       "4     51  Female  severe     125.0  213.0    0      0.0    125.0      1   \n",
       "..   ...     ...     ...       ...    ...  ...      ...      ...    ...   \n",
       "268   40  Female     low     110.0  167.0    0      0.0    114.0      1   \n",
       "269   60  Female     low     117.0  230.0    1      1.0    160.0      1   \n",
       "270   64  Female    high     140.0  335.0    0      1.0    158.0      0   \n",
       "271   43  Female     low     120.0  177.0    0      0.0    120.0      1   \n",
       "272   57  Female     low     150.0  276.0    0      0.0    112.0      1   \n",
       "\n",
       "     oldpeak  slope  ca  thal  target  \n",
       "0        0.0    2.0   1   2.0     1.0  \n",
       "1        0.4    2.0   0   3.0     1.0  \n",
       "2        0.0    2.0   0   2.0     1.0  \n",
       "3        0.5    0.0   1   2.0     1.0  \n",
       "4        1.4    2.0   1   2.0     1.0  \n",
       "..       ...    ...  ..   ...     ...  \n",
       "268      2.0    1.0   0   3.0     0.0  \n",
       "269      1.4    2.0   2   3.0     0.0  \n",
       "270      0.0    2.0   0   2.0     0.0  \n",
       "271      2.5    1.0   0   3.0     0.0  \n",
       "272      0.6    1.0   1   1.0     0.0  \n",
       "\n",
       "[273 rows x 14 columns]"
      ]
     },
     "execution_count": 1,
     "metadata": {},
     "output_type": "execute_result"
    }
   ],
   "source": [
    "import pandas as pd\n",
    "\n",
    "# df = pd.read_csv('/content/drive/MyDrive/heart_dataset_train_all.csv')\n",
    "df = pd.read_csv('heart_dataset_train_all.csv')\n",
    "df"
   ]
  },
  {
   "cell_type": "code",
   "execution_count": null,
   "id": "34241797-60f0-4818-a44b-f5379948d621",
   "metadata": {
    "colab": {
     "base_uri": "https://localhost:8080/"
    },
    "id": "34241797-60f0-4818-a44b-f5379948d621",
    "outputId": "7cc3dab8-237b-41c6-f38b-041c05a5f67d"
   },
   "outputs": [
    {
     "data": {
      "text/plain": [
       "Index(['age', 'sex', 'cp', 'trestbps', 'chol', 'fbs', 'restecg', 'thalach',\n",
       "       'exang', 'oldpeak', 'slope', 'ca', 'thal', 'target'],\n",
       "      dtype='object')"
      ]
     },
     "execution_count": 2,
     "metadata": {},
     "output_type": "execute_result"
    }
   ],
   "source": [
    "df.columns"
   ]
  },
  {
   "cell_type": "code",
   "execution_count": null,
   "id": "026585db-a6d8-4062-85de-e3a7eaebed72",
   "metadata": {
    "colab": {
     "base_uri": "https://localhost:8080/"
    },
    "id": "026585db-a6d8-4062-85de-e3a7eaebed72",
    "outputId": "39d8cead-4223-4871-b074-6013a9c5a022"
   },
   "outputs": [
    {
     "name": "stdout",
     "output_type": "stream",
     "text": [
      "<class 'pandas.core.frame.DataFrame'>\n",
      "RangeIndex: 273 entries, 0 to 272\n",
      "Data columns (total 14 columns):\n",
      " #   Column    Non-Null Count  Dtype  \n",
      "---  ------    --------------  -----  \n",
      " 0   age       273 non-null    int64  \n",
      " 1   sex       272 non-null    object \n",
      " 2   cp        272 non-null    object \n",
      " 3   trestbps  272 non-null    float64\n",
      " 4   chol      271 non-null    float64\n",
      " 5   fbs       273 non-null    int64  \n",
      " 6   restecg   272 non-null    float64\n",
      " 7   thalach   272 non-null    float64\n",
      " 8   exang     273 non-null    int64  \n",
      " 9   oldpeak   273 non-null    float64\n",
      " 10  slope     271 non-null    float64\n",
      " 11  ca        273 non-null    int64  \n",
      " 12  thal      272 non-null    float64\n",
      " 13  target    272 non-null    float64\n",
      "dtypes: float64(8), int64(4), object(2)\n",
      "memory usage: 30.0+ KB\n"
     ]
    }
   ],
   "source": [
    "df.info()"
   ]
  },
  {
   "cell_type": "code",
   "execution_count": null,
   "id": "69031e6d-0fb5-49d9-b723-a0d1fee08c3c",
   "metadata": {
    "colab": {
     "base_uri": "https://localhost:8080/",
     "height": 523
    },
    "id": "69031e6d-0fb5-49d9-b723-a0d1fee08c3c",
    "outputId": "500ff546-e2c5-41f7-946f-59ecac127193"
   },
   "outputs": [
    {
     "data": {
      "text/plain": [
       "age         0\n",
       "sex         1\n",
       "cp          1\n",
       "trestbps    1\n",
       "chol        2\n",
       "fbs         0\n",
       "restecg     1\n",
       "thalach     1\n",
       "exang       0\n",
       "oldpeak     0\n",
       "slope       2\n",
       "ca          0\n",
       "thal        1\n",
       "target      1\n",
       "dtype: int64"
      ]
     },
     "execution_count": 4,
     "metadata": {},
     "output_type": "execute_result"
    }
   ],
   "source": [
    "# checking for null values\n",
    "df.isnull().sum()"
   ]
  },
  {
   "cell_type": "code",
   "execution_count": null,
   "id": "cb3090f8-2cfa-4f56-8aa5-cf954bb19932",
   "metadata": {
    "id": "cb3090f8-2cfa-4f56-8aa5-cf954bb19932"
   },
   "outputs": [],
   "source": [
    "df = df.dropna()"
   ]
  },
  {
   "cell_type": "code",
   "execution_count": null,
   "id": "38aadbee-d68f-4ae0-b842-b40800b0cac9",
   "metadata": {
    "colab": {
     "base_uri": "https://localhost:8080/"
    },
    "id": "38aadbee-d68f-4ae0-b842-b40800b0cac9",
    "outputId": "72008331-15e4-477d-dc9d-529a20992ccc"
   },
   "outputs": [
    {
     "data": {
      "text/plain": [
       "(270, 14)"
      ]
     },
     "execution_count": 6,
     "metadata": {},
     "output_type": "execute_result"
    }
   ],
   "source": [
    "df.shape"
   ]
  },
  {
   "cell_type": "code",
   "execution_count": null,
   "id": "26a69fd5-3534-4d8e-b59a-6778bf47a479",
   "metadata": {
    "colab": {
     "base_uri": "https://localhost:8080/",
     "height": 423
    },
    "id": "26a69fd5-3534-4d8e-b59a-6778bf47a479",
    "outputId": "a35e3c0d-e206-4b81-bcd0-8789bc002c4b"
   },
   "outputs": [
    {
     "data": {
      "text/html": [
       "<div>\n",
       "<style scoped>\n",
       "    .dataframe tbody tr th:only-of-type {\n",
       "        vertical-align: middle;\n",
       "    }\n",
       "\n",
       "    .dataframe tbody tr th {\n",
       "        vertical-align: top;\n",
       "    }\n",
       "\n",
       "    .dataframe thead th {\n",
       "        text-align: right;\n",
       "    }\n",
       "</style>\n",
       "<table border=\"1\" class=\"dataframe\">\n",
       "  <thead>\n",
       "    <tr style=\"text-align: right;\">\n",
       "      <th></th>\n",
       "      <th>age</th>\n",
       "      <th>sex</th>\n",
       "      <th>cp</th>\n",
       "      <th>trestbps</th>\n",
       "      <th>chol</th>\n",
       "      <th>fbs</th>\n",
       "      <th>restecg</th>\n",
       "      <th>thalach</th>\n",
       "      <th>exang</th>\n",
       "      <th>oldpeak</th>\n",
       "      <th>slope</th>\n",
       "      <th>ca</th>\n",
       "      <th>thal</th>\n",
       "      <th>target</th>\n",
       "    </tr>\n",
       "  </thead>\n",
       "  <tbody>\n",
       "    <tr>\n",
       "      <th>0</th>\n",
       "      <td>41</td>\n",
       "      <td>0</td>\n",
       "      <td>1</td>\n",
       "      <td>105.0</td>\n",
       "      <td>198.0</td>\n",
       "      <td>0</td>\n",
       "      <td>1.0</td>\n",
       "      <td>168.0</td>\n",
       "      <td>0</td>\n",
       "      <td>0.0</td>\n",
       "      <td>2.0</td>\n",
       "      <td>1</td>\n",
       "      <td>2.0</td>\n",
       "      <td>1.0</td>\n",
       "    </tr>\n",
       "    <tr>\n",
       "      <th>1</th>\n",
       "      <td>65</td>\n",
       "      <td>1</td>\n",
       "      <td>0</td>\n",
       "      <td>120.0</td>\n",
       "      <td>177.0</td>\n",
       "      <td>0</td>\n",
       "      <td>1.0</td>\n",
       "      <td>140.0</td>\n",
       "      <td>0</td>\n",
       "      <td>0.4</td>\n",
       "      <td>2.0</td>\n",
       "      <td>0</td>\n",
       "      <td>3.0</td>\n",
       "      <td>1.0</td>\n",
       "    </tr>\n",
       "    <tr>\n",
       "      <th>2</th>\n",
       "      <td>44</td>\n",
       "      <td>1</td>\n",
       "      <td>1</td>\n",
       "      <td>130.0</td>\n",
       "      <td>219.0</td>\n",
       "      <td>0</td>\n",
       "      <td>0.0</td>\n",
       "      <td>188.0</td>\n",
       "      <td>0</td>\n",
       "      <td>0.0</td>\n",
       "      <td>2.0</td>\n",
       "      <td>0</td>\n",
       "      <td>2.0</td>\n",
       "      <td>1.0</td>\n",
       "    </tr>\n",
       "    <tr>\n",
       "      <th>3</th>\n",
       "      <td>54</td>\n",
       "      <td>1</td>\n",
       "      <td>2</td>\n",
       "      <td>125.0</td>\n",
       "      <td>273.0</td>\n",
       "      <td>0</td>\n",
       "      <td>0.0</td>\n",
       "      <td>152.0</td>\n",
       "      <td>0</td>\n",
       "      <td>0.5</td>\n",
       "      <td>0.0</td>\n",
       "      <td>1</td>\n",
       "      <td>2.0</td>\n",
       "      <td>1.0</td>\n",
       "    </tr>\n",
       "    <tr>\n",
       "      <th>4</th>\n",
       "      <td>51</td>\n",
       "      <td>1</td>\n",
       "      <td>3</td>\n",
       "      <td>125.0</td>\n",
       "      <td>213.0</td>\n",
       "      <td>0</td>\n",
       "      <td>0.0</td>\n",
       "      <td>125.0</td>\n",
       "      <td>1</td>\n",
       "      <td>1.4</td>\n",
       "      <td>2.0</td>\n",
       "      <td>1</td>\n",
       "      <td>2.0</td>\n",
       "      <td>1.0</td>\n",
       "    </tr>\n",
       "    <tr>\n",
       "      <th>...</th>\n",
       "      <td>...</td>\n",
       "      <td>...</td>\n",
       "      <td>...</td>\n",
       "      <td>...</td>\n",
       "      <td>...</td>\n",
       "      <td>...</td>\n",
       "      <td>...</td>\n",
       "      <td>...</td>\n",
       "      <td>...</td>\n",
       "      <td>...</td>\n",
       "      <td>...</td>\n",
       "      <td>...</td>\n",
       "      <td>...</td>\n",
       "      <td>...</td>\n",
       "    </tr>\n",
       "    <tr>\n",
       "      <th>268</th>\n",
       "      <td>40</td>\n",
       "      <td>1</td>\n",
       "      <td>0</td>\n",
       "      <td>110.0</td>\n",
       "      <td>167.0</td>\n",
       "      <td>0</td>\n",
       "      <td>0.0</td>\n",
       "      <td>114.0</td>\n",
       "      <td>1</td>\n",
       "      <td>2.0</td>\n",
       "      <td>1.0</td>\n",
       "      <td>0</td>\n",
       "      <td>3.0</td>\n",
       "      <td>0.0</td>\n",
       "    </tr>\n",
       "    <tr>\n",
       "      <th>269</th>\n",
       "      <td>60</td>\n",
       "      <td>1</td>\n",
       "      <td>0</td>\n",
       "      <td>117.0</td>\n",
       "      <td>230.0</td>\n",
       "      <td>1</td>\n",
       "      <td>1.0</td>\n",
       "      <td>160.0</td>\n",
       "      <td>1</td>\n",
       "      <td>1.4</td>\n",
       "      <td>2.0</td>\n",
       "      <td>2</td>\n",
       "      <td>3.0</td>\n",
       "      <td>0.0</td>\n",
       "    </tr>\n",
       "    <tr>\n",
       "      <th>270</th>\n",
       "      <td>64</td>\n",
       "      <td>1</td>\n",
       "      <td>2</td>\n",
       "      <td>140.0</td>\n",
       "      <td>335.0</td>\n",
       "      <td>0</td>\n",
       "      <td>1.0</td>\n",
       "      <td>158.0</td>\n",
       "      <td>0</td>\n",
       "      <td>0.0</td>\n",
       "      <td>2.0</td>\n",
       "      <td>0</td>\n",
       "      <td>2.0</td>\n",
       "      <td>0.0</td>\n",
       "    </tr>\n",
       "    <tr>\n",
       "      <th>271</th>\n",
       "      <td>43</td>\n",
       "      <td>1</td>\n",
       "      <td>0</td>\n",
       "      <td>120.0</td>\n",
       "      <td>177.0</td>\n",
       "      <td>0</td>\n",
       "      <td>0.0</td>\n",
       "      <td>120.0</td>\n",
       "      <td>1</td>\n",
       "      <td>2.5</td>\n",
       "      <td>1.0</td>\n",
       "      <td>0</td>\n",
       "      <td>3.0</td>\n",
       "      <td>0.0</td>\n",
       "    </tr>\n",
       "    <tr>\n",
       "      <th>272</th>\n",
       "      <td>57</td>\n",
       "      <td>1</td>\n",
       "      <td>0</td>\n",
       "      <td>150.0</td>\n",
       "      <td>276.0</td>\n",
       "      <td>0</td>\n",
       "      <td>0.0</td>\n",
       "      <td>112.0</td>\n",
       "      <td>1</td>\n",
       "      <td>0.6</td>\n",
       "      <td>1.0</td>\n",
       "      <td>1</td>\n",
       "      <td>1.0</td>\n",
       "      <td>0.0</td>\n",
       "    </tr>\n",
       "  </tbody>\n",
       "</table>\n",
       "<p>270 rows × 14 columns</p>\n",
       "</div>"
      ],
      "text/plain": [
       "     age sex cp  trestbps   chol  fbs  restecg  thalach  exang  oldpeak  \\\n",
       "0     41   0  1     105.0  198.0    0      1.0    168.0      0      0.0   \n",
       "1     65   1  0     120.0  177.0    0      1.0    140.0      0      0.4   \n",
       "2     44   1  1     130.0  219.0    0      0.0    188.0      0      0.0   \n",
       "3     54   1  2     125.0  273.0    0      0.0    152.0      0      0.5   \n",
       "4     51   1  3     125.0  213.0    0      0.0    125.0      1      1.4   \n",
       "..   ...  .. ..       ...    ...  ...      ...      ...    ...      ...   \n",
       "268   40   1  0     110.0  167.0    0      0.0    114.0      1      2.0   \n",
       "269   60   1  0     117.0  230.0    1      1.0    160.0      1      1.4   \n",
       "270   64   1  2     140.0  335.0    0      1.0    158.0      0      0.0   \n",
       "271   43   1  0     120.0  177.0    0      0.0    120.0      1      2.5   \n",
       "272   57   1  0     150.0  276.0    0      0.0    112.0      1      0.6   \n",
       "\n",
       "     slope  ca  thal  target  \n",
       "0      2.0   1   2.0     1.0  \n",
       "1      2.0   0   3.0     1.0  \n",
       "2      2.0   0   2.0     1.0  \n",
       "3      0.0   1   2.0     1.0  \n",
       "4      2.0   1   2.0     1.0  \n",
       "..     ...  ..   ...     ...  \n",
       "268    1.0   0   3.0     0.0  \n",
       "269    2.0   2   3.0     0.0  \n",
       "270    2.0   0   2.0     0.0  \n",
       "271    1.0   0   3.0     0.0  \n",
       "272    1.0   1   1.0     0.0  \n",
       "\n",
       "[270 rows x 14 columns]"
      ]
     },
     "execution_count": 7,
     "metadata": {},
     "output_type": "execute_result"
    }
   ],
   "source": [
    "# Mapping 'sex' descriptions to numbers\n",
    "sex_description = {\n",
    "    'Male': 0,\n",
    "    'Female': 1,\n",
    "}\n",
    "df.loc[:, 'sex'] = df['sex'].map(sex_description)\n",
    "\n",
    "# Mapping 'cp' (chest pain) descriptions to numbers\n",
    "pain_description = {\n",
    "    'low': 0,\n",
    "    'medium': 1,\n",
    "    'high': 2,\n",
    "    'severe': 3\n",
    "}\n",
    "df.loc[:, 'cp'] = df['cp'].map(pain_description)\n",
    "\n",
    "df"
   ]
  },
  {
   "cell_type": "code",
   "execution_count": null,
   "id": "051108c6-7011-4187-9e36-bd2944a019ca",
   "metadata": {
    "colab": {
     "base_uri": "https://localhost:8080/",
     "height": 300
    },
    "id": "051108c6-7011-4187-9e36-bd2944a019ca",
    "outputId": "7fae3ae6-2eba-486c-b78f-0a461827fce4"
   },
   "outputs": [
    {
     "data": {
      "text/html": [
       "<div>\n",
       "<style scoped>\n",
       "    .dataframe tbody tr th:only-of-type {\n",
       "        vertical-align: middle;\n",
       "    }\n",
       "\n",
       "    .dataframe tbody tr th {\n",
       "        vertical-align: top;\n",
       "    }\n",
       "\n",
       "    .dataframe thead th {\n",
       "        text-align: right;\n",
       "    }\n",
       "</style>\n",
       "<table border=\"1\" class=\"dataframe\">\n",
       "  <thead>\n",
       "    <tr style=\"text-align: right;\">\n",
       "      <th></th>\n",
       "      <th>age</th>\n",
       "      <th>trestbps</th>\n",
       "      <th>chol</th>\n",
       "      <th>fbs</th>\n",
       "      <th>restecg</th>\n",
       "      <th>thalach</th>\n",
       "      <th>exang</th>\n",
       "      <th>oldpeak</th>\n",
       "      <th>slope</th>\n",
       "      <th>ca</th>\n",
       "      <th>thal</th>\n",
       "      <th>target</th>\n",
       "    </tr>\n",
       "  </thead>\n",
       "  <tbody>\n",
       "    <tr>\n",
       "      <th>count</th>\n",
       "      <td>270.000000</td>\n",
       "      <td>270.000000</td>\n",
       "      <td>270.000000</td>\n",
       "      <td>270.000000</td>\n",
       "      <td>270.000000</td>\n",
       "      <td>270.000000</td>\n",
       "      <td>270.000000</td>\n",
       "      <td>270.000000</td>\n",
       "      <td>270.000000</td>\n",
       "      <td>270.000000</td>\n",
       "      <td>270.000000</td>\n",
       "      <td>270.000000</td>\n",
       "    </tr>\n",
       "    <tr>\n",
       "      <th>mean</th>\n",
       "      <td>54.385185</td>\n",
       "      <td>131.525926</td>\n",
       "      <td>245.607407</td>\n",
       "      <td>0.151852</td>\n",
       "      <td>0.522222</td>\n",
       "      <td>149.807407</td>\n",
       "      <td>0.333333</td>\n",
       "      <td>1.024074</td>\n",
       "      <td>1.400000</td>\n",
       "      <td>0.744444</td>\n",
       "      <td>2.300000</td>\n",
       "      <td>0.544444</td>\n",
       "    </tr>\n",
       "    <tr>\n",
       "      <th>std</th>\n",
       "      <td>9.149713</td>\n",
       "      <td>17.904675</td>\n",
       "      <td>51.529411</td>\n",
       "      <td>0.359544</td>\n",
       "      <td>0.529314</td>\n",
       "      <td>23.217253</td>\n",
       "      <td>0.472280</td>\n",
       "      <td>1.188379</td>\n",
       "      <td>0.618188</td>\n",
       "      <td>1.037166</td>\n",
       "      <td>0.623874</td>\n",
       "      <td>0.498946</td>\n",
       "    </tr>\n",
       "    <tr>\n",
       "      <th>min</th>\n",
       "      <td>29.000000</td>\n",
       "      <td>94.000000</td>\n",
       "      <td>126.000000</td>\n",
       "      <td>0.000000</td>\n",
       "      <td>0.000000</td>\n",
       "      <td>71.000000</td>\n",
       "      <td>0.000000</td>\n",
       "      <td>0.000000</td>\n",
       "      <td>0.000000</td>\n",
       "      <td>0.000000</td>\n",
       "      <td>0.000000</td>\n",
       "      <td>0.000000</td>\n",
       "    </tr>\n",
       "    <tr>\n",
       "      <th>25%</th>\n",
       "      <td>47.250000</td>\n",
       "      <td>120.000000</td>\n",
       "      <td>210.250000</td>\n",
       "      <td>0.000000</td>\n",
       "      <td>0.000000</td>\n",
       "      <td>134.500000</td>\n",
       "      <td>0.000000</td>\n",
       "      <td>0.000000</td>\n",
       "      <td>1.000000</td>\n",
       "      <td>0.000000</td>\n",
       "      <td>2.000000</td>\n",
       "      <td>0.000000</td>\n",
       "    </tr>\n",
       "    <tr>\n",
       "      <th>50%</th>\n",
       "      <td>56.000000</td>\n",
       "      <td>130.000000</td>\n",
       "      <td>240.500000</td>\n",
       "      <td>0.000000</td>\n",
       "      <td>1.000000</td>\n",
       "      <td>152.500000</td>\n",
       "      <td>0.000000</td>\n",
       "      <td>0.600000</td>\n",
       "      <td>1.000000</td>\n",
       "      <td>0.000000</td>\n",
       "      <td>2.000000</td>\n",
       "      <td>1.000000</td>\n",
       "    </tr>\n",
       "    <tr>\n",
       "      <th>75%</th>\n",
       "      <td>61.000000</td>\n",
       "      <td>140.000000</td>\n",
       "      <td>274.000000</td>\n",
       "      <td>0.000000</td>\n",
       "      <td>1.000000</td>\n",
       "      <td>167.750000</td>\n",
       "      <td>1.000000</td>\n",
       "      <td>1.600000</td>\n",
       "      <td>2.000000</td>\n",
       "      <td>1.000000</td>\n",
       "      <td>3.000000</td>\n",
       "      <td>1.000000</td>\n",
       "    </tr>\n",
       "    <tr>\n",
       "      <th>max</th>\n",
       "      <td>77.000000</td>\n",
       "      <td>200.000000</td>\n",
       "      <td>564.000000</td>\n",
       "      <td>1.000000</td>\n",
       "      <td>2.000000</td>\n",
       "      <td>202.000000</td>\n",
       "      <td>1.000000</td>\n",
       "      <td>6.200000</td>\n",
       "      <td>2.000000</td>\n",
       "      <td>4.000000</td>\n",
       "      <td>3.000000</td>\n",
       "      <td>1.000000</td>\n",
       "    </tr>\n",
       "  </tbody>\n",
       "</table>\n",
       "</div>"
      ],
      "text/plain": [
       "              age    trestbps        chol         fbs     restecg     thalach  \\\n",
       "count  270.000000  270.000000  270.000000  270.000000  270.000000  270.000000   \n",
       "mean    54.385185  131.525926  245.607407    0.151852    0.522222  149.807407   \n",
       "std      9.149713   17.904675   51.529411    0.359544    0.529314   23.217253   \n",
       "min     29.000000   94.000000  126.000000    0.000000    0.000000   71.000000   \n",
       "25%     47.250000  120.000000  210.250000    0.000000    0.000000  134.500000   \n",
       "50%     56.000000  130.000000  240.500000    0.000000    1.000000  152.500000   \n",
       "75%     61.000000  140.000000  274.000000    0.000000    1.000000  167.750000   \n",
       "max     77.000000  200.000000  564.000000    1.000000    2.000000  202.000000   \n",
       "\n",
       "            exang     oldpeak       slope          ca        thal      target  \n",
       "count  270.000000  270.000000  270.000000  270.000000  270.000000  270.000000  \n",
       "mean     0.333333    1.024074    1.400000    0.744444    2.300000    0.544444  \n",
       "std      0.472280    1.188379    0.618188    1.037166    0.623874    0.498946  \n",
       "min      0.000000    0.000000    0.000000    0.000000    0.000000    0.000000  \n",
       "25%      0.000000    0.000000    1.000000    0.000000    2.000000    0.000000  \n",
       "50%      0.000000    0.600000    1.000000    0.000000    2.000000    1.000000  \n",
       "75%      1.000000    1.600000    2.000000    1.000000    3.000000    1.000000  \n",
       "max      1.000000    6.200000    2.000000    4.000000    3.000000    1.000000  "
      ]
     },
     "execution_count": 8,
     "metadata": {},
     "output_type": "execute_result"
    }
   ],
   "source": [
    "df.describe()"
   ]
  },
  {
   "cell_type": "code",
   "execution_count": null,
   "id": "8b999df5-09a1-4ce2-b068-f1afba448ff8",
   "metadata": {
    "colab": {
     "base_uri": "https://localhost:8080/",
     "height": 488
    },
    "id": "8b999df5-09a1-4ce2-b068-f1afba448ff8",
    "outputId": "85b127b2-0b89-4cac-ee98-ce1c20bf7b05"
   },
   "outputs": [
    {
     "data": {
      "text/html": [
       "<div>\n",
       "<style scoped>\n",
       "    .dataframe tbody tr th:only-of-type {\n",
       "        vertical-align: middle;\n",
       "    }\n",
       "\n",
       "    .dataframe tbody tr th {\n",
       "        vertical-align: top;\n",
       "    }\n",
       "\n",
       "    .dataframe thead th {\n",
       "        text-align: right;\n",
       "    }\n",
       "</style>\n",
       "<table border=\"1\" class=\"dataframe\">\n",
       "  <thead>\n",
       "    <tr style=\"text-align: right;\">\n",
       "      <th></th>\n",
       "      <th>age</th>\n",
       "      <th>sex</th>\n",
       "      <th>cp</th>\n",
       "      <th>trestbps</th>\n",
       "      <th>chol</th>\n",
       "      <th>fbs</th>\n",
       "      <th>restecg</th>\n",
       "      <th>thalach</th>\n",
       "      <th>exang</th>\n",
       "      <th>oldpeak</th>\n",
       "      <th>slope</th>\n",
       "      <th>ca</th>\n",
       "      <th>thal</th>\n",
       "      <th>target</th>\n",
       "    </tr>\n",
       "  </thead>\n",
       "  <tbody>\n",
       "    <tr>\n",
       "      <th>age</th>\n",
       "      <td>1.000000</td>\n",
       "      <td>-0.062222</td>\n",
       "      <td>-0.103697</td>\n",
       "      <td>0.261782</td>\n",
       "      <td>0.210520</td>\n",
       "      <td>0.109847</td>\n",
       "      <td>-0.124588</td>\n",
       "      <td>-0.412624</td>\n",
       "      <td>0.111263</td>\n",
       "      <td>0.200243</td>\n",
       "      <td>-0.165360</td>\n",
       "      <td>0.254462</td>\n",
       "      <td>0.077368</td>\n",
       "      <td>-0.244798</td>\n",
       "    </tr>\n",
       "    <tr>\n",
       "      <th>sex</th>\n",
       "      <td>-0.062222</td>\n",
       "      <td>1.000000</td>\n",
       "      <td>-0.040197</td>\n",
       "      <td>-0.055463</td>\n",
       "      <td>-0.166885</td>\n",
       "      <td>0.042384</td>\n",
       "      <td>-0.069599</td>\n",
       "      <td>-0.058626</td>\n",
       "      <td>0.124054</td>\n",
       "      <td>0.089726</td>\n",
       "      <td>-0.038771</td>\n",
       "      <td>0.140795</td>\n",
       "      <td>0.198493</td>\n",
       "      <td>-0.283776</td>\n",
       "    </tr>\n",
       "    <tr>\n",
       "      <th>cp</th>\n",
       "      <td>-0.103697</td>\n",
       "      <td>-0.040197</td>\n",
       "      <td>1.000000</td>\n",
       "      <td>0.035563</td>\n",
       "      <td>-0.063592</td>\n",
       "      <td>0.065869</td>\n",
       "      <td>0.008389</td>\n",
       "      <td>0.300307</td>\n",
       "      <td>-0.428233</td>\n",
       "      <td>-0.183616</td>\n",
       "      <td>0.135174</td>\n",
       "      <td>-0.180598</td>\n",
       "      <td>-0.139765</td>\n",
       "      <td>0.425574</td>\n",
       "    </tr>\n",
       "    <tr>\n",
       "      <th>trestbps</th>\n",
       "      <td>0.261782</td>\n",
       "      <td>-0.055463</td>\n",
       "      <td>0.035563</td>\n",
       "      <td>1.000000</td>\n",
       "      <td>0.128444</td>\n",
       "      <td>0.170606</td>\n",
       "      <td>-0.145195</td>\n",
       "      <td>-0.056631</td>\n",
       "      <td>0.067116</td>\n",
       "      <td>0.184896</td>\n",
       "      <td>-0.126553</td>\n",
       "      <td>0.093545</td>\n",
       "      <td>0.068690</td>\n",
       "      <td>-0.173239</td>\n",
       "    </tr>\n",
       "    <tr>\n",
       "      <th>chol</th>\n",
       "      <td>0.210520</td>\n",
       "      <td>-0.166885</td>\n",
       "      <td>-0.063592</td>\n",
       "      <td>0.128444</td>\n",
       "      <td>1.000000</td>\n",
       "      <td>0.003430</td>\n",
       "      <td>-0.162687</td>\n",
       "      <td>-0.023753</td>\n",
       "      <td>0.063902</td>\n",
       "      <td>0.084355</td>\n",
       "      <td>-0.031929</td>\n",
       "      <td>0.068647</td>\n",
       "      <td>0.121280</td>\n",
       "      <td>-0.096773</td>\n",
       "    </tr>\n",
       "    <tr>\n",
       "      <th>fbs</th>\n",
       "      <td>0.109847</td>\n",
       "      <td>0.042384</td>\n",
       "      <td>0.065869</td>\n",
       "      <td>0.170606</td>\n",
       "      <td>0.003430</td>\n",
       "      <td>1.000000</td>\n",
       "      <td>-0.086165</td>\n",
       "      <td>-0.014297</td>\n",
       "      <td>0.029190</td>\n",
       "      <td>0.007943</td>\n",
       "      <td>-0.056866</td>\n",
       "      <td>0.164266</td>\n",
       "      <td>-0.004972</td>\n",
       "      <td>-0.068845</td>\n",
       "    </tr>\n",
       "    <tr>\n",
       "      <th>restecg</th>\n",
       "      <td>-0.124588</td>\n",
       "      <td>-0.069599</td>\n",
       "      <td>0.008389</td>\n",
       "      <td>-0.145195</td>\n",
       "      <td>-0.162687</td>\n",
       "      <td>-0.086165</td>\n",
       "      <td>1.000000</td>\n",
       "      <td>0.025457</td>\n",
       "      <td>-0.089225</td>\n",
       "      <td>-0.047837</td>\n",
       "      <td>0.074982</td>\n",
       "      <td>-0.053946</td>\n",
       "      <td>-0.003377</td>\n",
       "      <td>0.101817</td>\n",
       "    </tr>\n",
       "    <tr>\n",
       "      <th>thalach</th>\n",
       "      <td>-0.412624</td>\n",
       "      <td>-0.058626</td>\n",
       "      <td>0.300307</td>\n",
       "      <td>-0.056631</td>\n",
       "      <td>-0.023753</td>\n",
       "      <td>-0.014297</td>\n",
       "      <td>0.025457</td>\n",
       "      <td>1.000000</td>\n",
       "      <td>-0.404349</td>\n",
       "      <td>-0.340564</td>\n",
       "      <td>0.370073</td>\n",
       "      <td>-0.205060</td>\n",
       "      <td>-0.078637</td>\n",
       "      <td>0.432687</td>\n",
       "    </tr>\n",
       "    <tr>\n",
       "      <th>exang</th>\n",
       "      <td>0.111263</td>\n",
       "      <td>0.124054</td>\n",
       "      <td>-0.428233</td>\n",
       "      <td>0.067116</td>\n",
       "      <td>0.063902</td>\n",
       "      <td>0.029190</td>\n",
       "      <td>-0.089225</td>\n",
       "      <td>-0.404349</td>\n",
       "      <td>1.000000</td>\n",
       "      <td>0.294308</td>\n",
       "      <td>-0.280124</td>\n",
       "      <td>0.106250</td>\n",
       "      <td>0.189253</td>\n",
       "      <td>-0.457502</td>\n",
       "    </tr>\n",
       "    <tr>\n",
       "      <th>oldpeak</th>\n",
       "      <td>0.200243</td>\n",
       "      <td>0.089726</td>\n",
       "      <td>-0.183616</td>\n",
       "      <td>0.184896</td>\n",
       "      <td>0.084355</td>\n",
       "      <td>0.007943</td>\n",
       "      <td>-0.047837</td>\n",
       "      <td>-0.340564</td>\n",
       "      <td>0.294308</td>\n",
       "      <td>1.000000</td>\n",
       "      <td>-0.585472</td>\n",
       "      <td>0.223375</td>\n",
       "      <td>0.200315</td>\n",
       "      <td>-0.443504</td>\n",
       "    </tr>\n",
       "    <tr>\n",
       "      <th>slope</th>\n",
       "      <td>-0.165360</td>\n",
       "      <td>-0.038771</td>\n",
       "      <td>0.135174</td>\n",
       "      <td>-0.126553</td>\n",
       "      <td>-0.031929</td>\n",
       "      <td>-0.056866</td>\n",
       "      <td>0.074982</td>\n",
       "      <td>0.370073</td>\n",
       "      <td>-0.280124</td>\n",
       "      <td>-0.585472</td>\n",
       "      <td>1.000000</td>\n",
       "      <td>-0.083491</td>\n",
       "      <td>-0.090606</td>\n",
       "      <td>0.363983</td>\n",
       "    </tr>\n",
       "    <tr>\n",
       "      <th>ca</th>\n",
       "      <td>0.254462</td>\n",
       "      <td>0.140795</td>\n",
       "      <td>-0.180598</td>\n",
       "      <td>0.093545</td>\n",
       "      <td>0.068647</td>\n",
       "      <td>0.164266</td>\n",
       "      <td>-0.053946</td>\n",
       "      <td>-0.205060</td>\n",
       "      <td>0.106250</td>\n",
       "      <td>0.223375</td>\n",
       "      <td>-0.083491</td>\n",
       "      <td>1.000000</td>\n",
       "      <td>0.136160</td>\n",
       "      <td>-0.391031</td>\n",
       "    </tr>\n",
       "    <tr>\n",
       "      <th>thal</th>\n",
       "      <td>0.077368</td>\n",
       "      <td>0.198493</td>\n",
       "      <td>-0.139765</td>\n",
       "      <td>0.068690</td>\n",
       "      <td>0.121280</td>\n",
       "      <td>-0.004972</td>\n",
       "      <td>-0.003377</td>\n",
       "      <td>-0.078637</td>\n",
       "      <td>0.189253</td>\n",
       "      <td>0.200315</td>\n",
       "      <td>-0.090606</td>\n",
       "      <td>0.136160</td>\n",
       "      <td>1.000000</td>\n",
       "      <td>-0.311701</td>\n",
       "    </tr>\n",
       "    <tr>\n",
       "      <th>target</th>\n",
       "      <td>-0.244798</td>\n",
       "      <td>-0.283776</td>\n",
       "      <td>0.425574</td>\n",
       "      <td>-0.173239</td>\n",
       "      <td>-0.096773</td>\n",
       "      <td>-0.068845</td>\n",
       "      <td>0.101817</td>\n",
       "      <td>0.432687</td>\n",
       "      <td>-0.457502</td>\n",
       "      <td>-0.443504</td>\n",
       "      <td>0.363983</td>\n",
       "      <td>-0.391031</td>\n",
       "      <td>-0.311701</td>\n",
       "      <td>1.000000</td>\n",
       "    </tr>\n",
       "  </tbody>\n",
       "</table>\n",
       "</div>"
      ],
      "text/plain": [
       "               age       sex        cp  trestbps      chol       fbs  \\\n",
       "age       1.000000 -0.062222 -0.103697  0.261782  0.210520  0.109847   \n",
       "sex      -0.062222  1.000000 -0.040197 -0.055463 -0.166885  0.042384   \n",
       "cp       -0.103697 -0.040197  1.000000  0.035563 -0.063592  0.065869   \n",
       "trestbps  0.261782 -0.055463  0.035563  1.000000  0.128444  0.170606   \n",
       "chol      0.210520 -0.166885 -0.063592  0.128444  1.000000  0.003430   \n",
       "fbs       0.109847  0.042384  0.065869  0.170606  0.003430  1.000000   \n",
       "restecg  -0.124588 -0.069599  0.008389 -0.145195 -0.162687 -0.086165   \n",
       "thalach  -0.412624 -0.058626  0.300307 -0.056631 -0.023753 -0.014297   \n",
       "exang     0.111263  0.124054 -0.428233  0.067116  0.063902  0.029190   \n",
       "oldpeak   0.200243  0.089726 -0.183616  0.184896  0.084355  0.007943   \n",
       "slope    -0.165360 -0.038771  0.135174 -0.126553 -0.031929 -0.056866   \n",
       "ca        0.254462  0.140795 -0.180598  0.093545  0.068647  0.164266   \n",
       "thal      0.077368  0.198493 -0.139765  0.068690  0.121280 -0.004972   \n",
       "target   -0.244798 -0.283776  0.425574 -0.173239 -0.096773 -0.068845   \n",
       "\n",
       "           restecg   thalach     exang   oldpeak     slope        ca  \\\n",
       "age      -0.124588 -0.412624  0.111263  0.200243 -0.165360  0.254462   \n",
       "sex      -0.069599 -0.058626  0.124054  0.089726 -0.038771  0.140795   \n",
       "cp        0.008389  0.300307 -0.428233 -0.183616  0.135174 -0.180598   \n",
       "trestbps -0.145195 -0.056631  0.067116  0.184896 -0.126553  0.093545   \n",
       "chol     -0.162687 -0.023753  0.063902  0.084355 -0.031929  0.068647   \n",
       "fbs      -0.086165 -0.014297  0.029190  0.007943 -0.056866  0.164266   \n",
       "restecg   1.000000  0.025457 -0.089225 -0.047837  0.074982 -0.053946   \n",
       "thalach   0.025457  1.000000 -0.404349 -0.340564  0.370073 -0.205060   \n",
       "exang    -0.089225 -0.404349  1.000000  0.294308 -0.280124  0.106250   \n",
       "oldpeak  -0.047837 -0.340564  0.294308  1.000000 -0.585472  0.223375   \n",
       "slope     0.074982  0.370073 -0.280124 -0.585472  1.000000 -0.083491   \n",
       "ca       -0.053946 -0.205060  0.106250  0.223375 -0.083491  1.000000   \n",
       "thal     -0.003377 -0.078637  0.189253  0.200315 -0.090606  0.136160   \n",
       "target    0.101817  0.432687 -0.457502 -0.443504  0.363983 -0.391031   \n",
       "\n",
       "              thal    target  \n",
       "age       0.077368 -0.244798  \n",
       "sex       0.198493 -0.283776  \n",
       "cp       -0.139765  0.425574  \n",
       "trestbps  0.068690 -0.173239  \n",
       "chol      0.121280 -0.096773  \n",
       "fbs      -0.004972 -0.068845  \n",
       "restecg  -0.003377  0.101817  \n",
       "thalach  -0.078637  0.432687  \n",
       "exang     0.189253 -0.457502  \n",
       "oldpeak   0.200315 -0.443504  \n",
       "slope    -0.090606  0.363983  \n",
       "ca        0.136160 -0.391031  \n",
       "thal      1.000000 -0.311701  \n",
       "target   -0.311701  1.000000  "
      ]
     },
     "execution_count": 9,
     "metadata": {},
     "output_type": "execute_result"
    }
   ],
   "source": [
    "df.corr()"
   ]
  },
  {
   "cell_type": "code",
   "execution_count": null,
   "id": "Fy-V-Rcbih9R",
   "metadata": {
    "id": "Fy-V-Rcbih9R"
   },
   "outputs": [],
   "source": [
    "# 移除低相關的特徵\n",
    "df = df.drop(columns=[\"chol\", \"fbs\", \"restecg\", \"trestbps\"])"
   ]
  },
  {
   "cell_type": "markdown",
   "id": "8ce7a0c5-76d6-4863-ba61-0544a220962a",
   "metadata": {
    "id": "8ce7a0c5-76d6-4863-ba61-0544a220962a"
   },
   "source": [
    "#### Converting the DataFrame to a NumPy Array"
   ]
  },
  {
   "cell_type": "code",
   "execution_count": null,
   "id": "5735baad-2db8-4306-aa4c-7788d2b49621",
   "metadata": {
    "colab": {
     "base_uri": "https://localhost:8080/"
    },
    "id": "5735baad-2db8-4306-aa4c-7788d2b49621",
    "outputId": "fc610f9a-ac18-42bd-c74f-cc0aff4c9b19"
   },
   "outputs": [
    {
     "data": {
      "text/plain": [
       "(270, 10)"
      ]
     },
     "execution_count": 11,
     "metadata": {},
     "output_type": "execute_result"
    }
   ],
   "source": [
    "import numpy as np\n",
    "\n",
    "np_data = df.values\n",
    "np_data.shape"
   ]
  },
  {
   "cell_type": "code",
   "execution_count": null,
   "id": "29b8e189-7f39-435a-8038-39098b147325",
   "metadata": {
    "id": "29b8e189-7f39-435a-8038-39098b147325"
   },
   "outputs": [],
   "source": [
    "split_point = int(np_data.shape[0]*0.7)\n",
    "\n",
    "np.random.shuffle(np_data)\n",
    "\n",
    "x_train = np_data[:split_point, :9]\n",
    "y_train = np_data[:split_point, 9]\n",
    "x_val = np_data[split_point:, :9]\n",
    "y_val = np_data[split_point:, 9]"
   ]
  },
  {
   "cell_type": "code",
   "execution_count": null,
   "id": "fedb56d7-1665-4c90-9697-b86cab43f300",
   "metadata": {
    "colab": {
     "base_uri": "https://localhost:8080/"
    },
    "id": "fedb56d7-1665-4c90-9697-b86cab43f300",
    "outputId": "fbc9a1d8-60c5-41c4-9f8f-744f9c2b1cf9"
   },
   "outputs": [
    {
     "name": "stdout",
     "output_type": "stream",
     "text": [
      "Number of samples in train and validation are 189 and 81.\n"
     ]
    }
   ],
   "source": [
    "import torch\n",
    "from torch.utils.data import DataLoader, TensorDataset\n",
    "\n",
    "# Convert to PyTorch tensors\n",
    "x_train = np.array(x_train, dtype=float)\n",
    "x_train = torch.from_numpy(x_train).float()\n",
    "y_train = np.array(y_train, dtype=int)\n",
    "y_train = torch.from_numpy(y_train).long()\n",
    "\n",
    "x_val = np.array(x_val, dtype=float)\n",
    "x_val = torch.from_numpy(x_val).float()\n",
    "y_val = np.array(y_val, dtype=int)\n",
    "y_val = torch.from_numpy(y_val).long()\n",
    "\n",
    "batch_size = 64\n",
    "\n",
    "# Create datasets\n",
    "train_dataset = TensorDataset(x_train, y_train)\n",
    "val_dataset = TensorDataset(x_val, y_val)\n",
    "\n",
    "# Create dataloaders\n",
    "train_loader = DataLoader(train_dataset, batch_size=batch_size, shuffle=True)\n",
    "val_loader = DataLoader(val_dataset, batch_size=batch_size, shuffle=False)\n",
    "\n",
    "print(f'Number of samples in train and validation are {len(train_loader.dataset)} and {len(val_loader.dataset)}.')"
   ]
  },
  {
   "cell_type": "code",
   "execution_count": null,
   "id": "196f53ce-ffc7-4b91-9a64-b2924254cae0",
   "metadata": {
    "id": "196f53ce-ffc7-4b91-9a64-b2924254cae0",
    "outputId": "e0129aec-c696-437e-b152-483afc041956"
   },
   "outputs": [
    {
     "name": "stdout",
     "output_type": "stream",
     "text": [
      "Requirement already satisfied: tqdm in d:\\anaconda\\envs\\pytorch\\lib\\site-packages (4.67.1)\n",
      "Requirement already satisfied: colorama in d:\\anaconda\\envs\\pytorch\\lib\\site-packages (from tqdm) (0.4.6)\n"
     ]
    }
   ],
   "source": [
    "!pip install tqdm"
   ]
  },
  {
   "cell_type": "markdown",
   "id": "8ffc26b9-6044-41e9-93e2-7dc6250dbd27",
   "metadata": {
    "id": "8ffc26b9-6044-41e9-93e2-7dc6250dbd27"
   },
   "source": [
    "## B. Defining Neural Networks\n",
    "\n",
    "In PyTorch, we can use **class** to define our custom neural network architectures by subclassing the `nn.Module` class. This gives our neural network all the functionality it needs to work with PyTorch's other utilities and keeps our implementation organized.\n",
    "\n",
    "- Neural networks are defined by subclassing `nn.Module`.\n",
    "- The layers of the neural network are initialized in the `__init__` method.\n",
    "- The forward pass operations on input data are defined in the `forward` method.\n",
    "\n",
    "It's worth noting that while we only define the forward pass, PyTorch will automatically derive the backward pass for us, which is used during training to update the model's weights.\""
   ]
  },
  {
   "cell_type": "code",
   "execution_count": null,
   "id": "77975746-a7a7-4676-9527-57674cd98c0f",
   "metadata": {
    "id": "77975746-a7a7-4676-9527-57674cd98c0f"
   },
   "outputs": [],
   "source": [
    "import torch.nn as nn\n",
    "\n",
    "class Model(nn.Module):\n",
    "    def __init__(self):\n",
    "        super().__init__()\n",
    "        self.model = nn.Sequential(\n",
    "            nn.Linear(9, 256),\n",
    "            #nn.BatchNorm1d(256),\n",
    "            nn.ReLU(),\n",
    "            #nn.Dropout(0.3),\n",
    "            nn.Linear(256, 256),\n",
    "            #nn.BatchNorm1d(256),\n",
    "            nn.ReLU(),\n",
    "            #nn.Dropout(0.3),\n",
    "            nn.Linear(256, 2)\n",
    "        ).cuda()\n",
    "\n",
    "    def forward(self, x):\n",
    "        return self.model(x)"
   ]
  },
  {
   "cell_type": "code",
   "execution_count": null,
   "id": "rWAMZVV7JscA",
   "metadata": {
    "id": "rWAMZVV7JscA"
   },
   "outputs": [],
   "source": [
    "import torch.nn as nn\n",
    "\n",
    "class Model(nn.Module):\n",
    "    def __init__(self):\n",
    "        super().__init__()\n",
    "        self.model = nn.Sequential(\n",
    "            nn.Linear(9, 32),\n",
    "            nn.ReLU(),\n",
    "            nn.Linear(32, 64),\n",
    "            nn.ReLU(),\n",
    "            nn.Linear(64, 64),\n",
    "            nn.ReLU(),\n",
    "            nn.Linear(64, 16),\n",
    "            nn.ReLU(),\n",
    "            nn.Linear(16, 2)\n",
    "        ).cuda()\n",
    "\n",
    "    def forward(self, x):\n",
    "        return self.model(x)"
   ]
  },
  {
   "cell_type": "code",
   "execution_count": null,
   "id": "3526939f-58b4-4ac8-b8e8-82970d338b42",
   "metadata": {
    "id": "3526939f-58b4-4ac8-b8e8-82970d338b42"
   },
   "outputs": [],
   "source": [
    "import torch.nn as nn\n",
    "\n",
    "class Model(nn.Module):\n",
    "    def __init__(self):\n",
    "        super().__init__()\n",
    "        self.model = nn.Sequential(\n",
    "            nn.Linear(9, 32),\n",
    "            nn.BatchNorm1d(32),\n",
    "            nn.ReLU(),\n",
    "            nn.Dropout(0.3),\n",
    "            nn.Linear(32, 64),\n",
    "            nn.BatchNorm1d(64),\n",
    "            nn.ReLU(),\n",
    "            nn.Dropout(0.3),\n",
    "            nn.Linear(64, 64),\n",
    "            nn.BatchNorm1d(64),\n",
    "            nn.ReLU(),\n",
    "            nn.Dropout(0.3),\n",
    "            nn.Linear(64, 16),\n",
    "            nn.BatchNorm1d(16),\n",
    "            nn.ReLU(),\n",
    "            nn.Linear(16, 2)\n",
    "        ).cuda()\n",
    "\n",
    "    def forward(self, x):\n",
    "        return self.model(x)"
   ]
  },
  {
   "cell_type": "markdown",
   "id": "cbb8b5b0-0ec0-406c-a42e-048aa00e05aa",
   "metadata": {
    "id": "cbb8b5b0-0ec0-406c-a42e-048aa00e05aa"
   },
   "source": [
    "## C. Training the Neural Network"
   ]
  },
  {
   "cell_type": "code",
   "execution_count": null,
   "id": "3602ae7d-4034-4c49-b221-0c12a5824b18",
   "metadata": {
    "colab": {
     "base_uri": "https://localhost:8080/"
    },
    "id": "3602ae7d-4034-4c49-b221-0c12a5824b18",
    "outputId": "d6c25e8f-f697-4dae-d389-bf10831546cb"
   },
   "outputs": [
    {
     "name": "stdout",
     "output_type": "stream",
     "text": [
      "Wed Mar 26 10:26:03 2025       \n",
      "+-----------------------------------------------------------------------------------------+\n",
      "| NVIDIA-SMI 566.03                 Driver Version: 566.03         CUDA Version: 12.7     |\n",
      "|-----------------------------------------+------------------------+----------------------+\n",
      "| GPU  Name                  Driver-Model | Bus-Id          Disp.A | Volatile Uncorr. ECC |\n",
      "| Fan  Temp   Perf          Pwr:Usage/Cap |           Memory-Usage | GPU-Util  Compute M. |\n",
      "|                                         |                        |               MIG M. |\n",
      "|=========================================+========================+======================|\n",
      "|   0  NVIDIA GeForce GTX 1650      WDDM  |   00000000:01:00.0 Off |                  N/A |\n",
      "| N/A   49C    P0             15W /   50W |       0MiB /   4096MiB |      0%      Default |\n",
      "|                                         |                        |                  N/A |\n",
      "+-----------------------------------------+------------------------+----------------------+\n",
      "                                                                                         \n",
      "+-----------------------------------------------------------------------------------------+\n",
      "| Processes:                                                                              |\n",
      "|  GPU   GI   CI        PID   Type   Process name                              GPU Memory |\n",
      "|        ID   ID                                                               Usage      |\n",
      "|=========================================================================================|\n",
      "|  No running processes found                                                             |\n",
      "+-----------------------------------------------------------------------------------------+\n"
     ]
    }
   ],
   "source": [
    "# Check your GPU status.\n",
    "!nvidia-smi"
   ]
  },
  {
   "cell_type": "code",
   "execution_count": null,
   "id": "bCyzYPUOGlUf",
   "metadata": {
    "colab": {
     "base_uri": "https://localhost:8080/",
     "height": 1000,
     "referenced_widgets": [
      "254503e381e34741b813c371c613a7c4",
      "dce2ae020005410bbafa9adf2e8e7eb9",
      "6993331c8aad49ad925f44e46dc4411e",
      "ecabf0feb62d4df48a6413b80552e712",
      "2b481f37f3584485864774799d7b9fe1",
      "186eed6c4c6847ad913f382935d02c43",
      "518bd8e997f649f3955f9a0a18194e3e",
      "490dd848aba34f82b67249b2910ab88c",
      "b499aa3b1cd84458adf995fb979c7c2f",
      "58a7654674a34e9b80a052e26386c57e",
      "e5ab74e3ecf24d39a0b8b7ce1d1fc0da"
     ]
    },
    "id": "bCyzYPUOGlUf",
    "outputId": "65ae19ec-bc12-4d5b-9768-94253be5a4c8"
   },
   "outputs": [
    {
     "name": "stderr",
     "output_type": "stream",
     "text": [
      "  2%|█▋                                                                                | 6/300 [00:00<00:05, 53.71it/s]"
     ]
    },
    {
     "name": "stdout",
     "output_type": "stream",
     "text": [
      "Epoch 1/300, Train loss: 6.6072, Train acc: 49.2063%, Val loss: 1.9124, Val acc: 41.9753%, Best Val loss: 1.9124, Best Val acc: 41.98%\n",
      "Epoch 2/300, Train loss: 4.2031, Train acc: 52.9101%, Val loss: 6.4111, Val acc: 58.0247%, Best Val loss: 1.9124, Best Val acc: 58.02%\n",
      "Epoch 3/300, Train loss: 5.4913, Train acc: 52.9101%, Val loss: 0.6557, Val acc: 59.2593%, Best Val loss: 0.6557, Best Val acc: 59.26%\n",
      "Epoch 4/300, Train loss: 2.6583, Train acc: 50.2646%, Val loss: 4.1526, Val acc: 41.9753%, Best Val loss: 0.6557, Best Val acc: 59.26%\n",
      "Epoch 5/300, Train loss: 2.3021, Train acc: 56.0847%, Val loss: 1.4490, Val acc: 58.0247%, Best Val loss: 0.6557, Best Val acc: 59.26%\n",
      "Epoch 6/300, Train loss: 2.1606, Train acc: 53.4392%, Val loss: 1.5608, Val acc: 58.0247%, Best Val loss: 0.6557, Best Val acc: 59.26%\n",
      "Epoch 7/300, Train loss: 1.2586, Train acc: 54.4974%, Val loss: 1.5661, Val acc: 41.9753%, Best Val loss: 0.6557, Best Val acc: 59.26%\n",
      "Epoch 8/300, Train loss: 1.2910, Train acc: 50.2646%, Val loss: 0.7120, Val acc: 67.9012%, Best Val loss: 0.6557, Best Val acc: 67.90%\n",
      "Epoch 9/300, Train loss: 1.1088, Train acc: 58.2011%, Val loss: 0.9509, Val acc: 61.7284%, Best Val loss: 0.6557, Best Val acc: 67.90%\n",
      "Epoch 10/300, Train loss: 0.8469, Train acc: 63.4921%, Val loss: 0.9970, Val acc: 62.9630%, Best Val loss: 0.6557, Best Val acc: 67.90%\n",
      "Epoch 11/300, Train loss: 0.9255, Train acc: 62.4339%, Val loss: 0.6255, Val acc: 66.6667%, Best Val loss: 0.6255, Best Val acc: 67.90%\n",
      "Epoch 12/300, Train loss: 0.8801, Train acc: 60.8466%, Val loss: 0.6477, Val acc: 70.3704%, Best Val loss: 0.6255, Best Val acc: 70.37%\n",
      "Epoch 13/300, Train loss: 0.6632, Train acc: 71.4286%, Val loss: 0.7662, Val acc: 60.4938%, Best Val loss: 0.6255, Best Val acc: 70.37%\n"
     ]
    },
    {
     "name": "stderr",
     "output_type": "stream",
     "text": [
      " 12%|█████████▍                                                                       | 35/300 [00:00<00:02, 90.11it/s]"
     ]
    },
    {
     "name": "stdout",
     "output_type": "stream",
     "text": [
      "Epoch 14/300, Train loss: 0.7636, Train acc: 65.0794%, Val loss: 0.6087, Val acc: 72.8395%, Best Val loss: 0.6087, Best Val acc: 72.84%\n",
      "Epoch 15/300, Train loss: 0.7118, Train acc: 63.4921%, Val loss: 0.5273, Val acc: 70.3704%, Best Val loss: 0.5273, Best Val acc: 72.84%\n",
      "Epoch 16/300, Train loss: 0.6984, Train acc: 66.6667%, Val loss: 0.5748, Val acc: 65.4321%, Best Val loss: 0.5273, Best Val acc: 72.84%\n",
      "Epoch 17/300, Train loss: 0.6282, Train acc: 70.3704%, Val loss: 0.5975, Val acc: 70.3704%, Best Val loss: 0.5273, Best Val acc: 72.84%\n",
      "Epoch 18/300, Train loss: 0.5737, Train acc: 70.8995%, Val loss: 0.6299, Val acc: 62.9630%, Best Val loss: 0.5273, Best Val acc: 72.84%\n",
      "Epoch 19/300, Train loss: 0.6047, Train acc: 69.3122%, Val loss: 0.5290, Val acc: 74.0741%, Best Val loss: 0.5273, Best Val acc: 74.07%\n",
      "Epoch 20/300, Train loss: 0.5813, Train acc: 66.6667%, Val loss: 0.5026, Val acc: 74.0741%, Best Val loss: 0.5026, Best Val acc: 74.07%\n",
      "Epoch 21/300, Train loss: 0.5426, Train acc: 76.1905%, Val loss: 0.5125, Val acc: 71.6049%, Best Val loss: 0.5026, Best Val acc: 74.07%\n",
      "Epoch 22/300, Train loss: 0.5526, Train acc: 73.0159%, Val loss: 0.5075, Val acc: 75.3086%, Best Val loss: 0.5026, Best Val acc: 75.31%\n",
      "Epoch 23/300, Train loss: 0.5503, Train acc: 74.0741%, Val loss: 0.5190, Val acc: 71.6049%, Best Val loss: 0.5026, Best Val acc: 75.31%\n",
      "Epoch 24/300, Train loss: 0.5702, Train acc: 75.1323%, Val loss: 0.4968, Val acc: 76.5432%, Best Val loss: 0.4968, Best Val acc: 76.54%\n",
      "Epoch 25/300, Train loss: 0.5545, Train acc: 70.3704%, Val loss: 0.4985, Val acc: 74.0741%, Best Val loss: 0.4968, Best Val acc: 76.54%\n",
      "Epoch 26/300, Train loss: 0.5371, Train acc: 73.5450%, Val loss: 0.4906, Val acc: 76.5432%, Best Val loss: 0.4906, Best Val acc: 76.54%\n",
      "Epoch 27/300, Train loss: 0.5682, Train acc: 69.3122%, Val loss: 0.4876, Val acc: 76.5432%, Best Val loss: 0.4876, Best Val acc: 76.54%\n",
      "Epoch 28/300, Train loss: 0.5059, Train acc: 74.6032%, Val loss: 0.4855, Val acc: 76.5432%, Best Val loss: 0.4855, Best Val acc: 76.54%\n",
      "Epoch 29/300, Train loss: 0.4929, Train acc: 76.1905%, Val loss: 0.5016, Val acc: 70.3704%, Best Val loss: 0.4855, Best Val acc: 76.54%\n",
      "Epoch 30/300, Train loss: 0.5024, Train acc: 75.1323%, Val loss: 0.4808, Val acc: 75.3086%, Best Val loss: 0.4808, Best Val acc: 76.54%\n",
      "Epoch 31/300, Train loss: 0.4837, Train acc: 76.1905%, Val loss: 0.5096, Val acc: 72.8395%, Best Val loss: 0.4808, Best Val acc: 76.54%\n",
      "Epoch 32/300, Train loss: 0.4868, Train acc: 79.3651%, Val loss: 0.4799, Val acc: 79.0123%, Best Val loss: 0.4799, Best Val acc: 79.01%\n",
      "Epoch 33/300, Train loss: 0.4802, Train acc: 76.7196%, Val loss: 0.4854, Val acc: 72.8395%, Best Val loss: 0.4799, Best Val acc: 79.01%\n",
      "Epoch 34/300, Train loss: 0.4792, Train acc: 79.3651%, Val loss: 0.4863, Val acc: 80.2469%, Best Val loss: 0.4799, Best Val acc: 80.25%\n",
      "Epoch 35/300, Train loss: 0.4948, Train acc: 80.4233%, Val loss: 0.4851, Val acc: 74.0741%, Best Val loss: 0.4799, Best Val acc: 80.25%\n"
     ]
    },
    {
     "name": "stderr",
     "output_type": "stream",
     "text": [
      " 15%|████████████▍                                                                    | 46/300 [00:00<00:02, 94.77it/s]"
     ]
    },
    {
     "name": "stdout",
     "output_type": "stream",
     "text": [
      "Epoch 36/300, Train loss: 0.4629, Train acc: 80.4233%, Val loss: 0.4682, Val acc: 79.0123%, Best Val loss: 0.4682, Best Val acc: 80.25%\n",
      "Epoch 37/300, Train loss: 0.4617, Train acc: 78.8360%, Val loss: 0.4787, Val acc: 75.3086%, Best Val loss: 0.4682, Best Val acc: 80.25%\n",
      "Epoch 38/300, Train loss: 0.4799, Train acc: 77.7778%, Val loss: 0.4706, Val acc: 75.3086%, Best Val loss: 0.4682, Best Val acc: 80.25%\n",
      "Epoch 39/300, Train loss: 0.4453, Train acc: 82.5397%, Val loss: 0.4896, Val acc: 74.0741%, Best Val loss: 0.4682, Best Val acc: 80.25%\n",
      "Epoch 40/300, Train loss: 0.4788, Train acc: 78.8360%, Val loss: 0.4646, Val acc: 79.0123%, Best Val loss: 0.4646, Best Val acc: 80.25%\n",
      "Epoch 41/300, Train loss: 0.4432, Train acc: 80.9524%, Val loss: 0.4696, Val acc: 79.0123%, Best Val loss: 0.4646, Best Val acc: 80.25%\n",
      "Epoch 42/300, Train loss: 0.4395, Train acc: 81.4815%, Val loss: 0.4581, Val acc: 77.7778%, Best Val loss: 0.4581, Best Val acc: 80.25%\n",
      "Epoch 43/300, Train loss: 0.4423, Train acc: 79.3651%, Val loss: 0.4823, Val acc: 76.5432%, Best Val loss: 0.4581, Best Val acc: 80.25%\n",
      "Epoch 44/300, Train loss: 0.4482, Train acc: 79.3651%, Val loss: 0.4550, Val acc: 80.2469%, Best Val loss: 0.4550, Best Val acc: 80.25%\n",
      "Epoch 45/300, Train loss: 0.4366, Train acc: 79.3651%, Val loss: 0.4867, Val acc: 75.3086%, Best Val loss: 0.4550, Best Val acc: 80.25%\n",
      "Epoch 46/300, Train loss: 0.4277, Train acc: 84.6561%, Val loss: 0.4511, Val acc: 77.7778%, Best Val loss: 0.4511, Best Val acc: 80.25%\n",
      "Epoch 47/300, Train loss: 0.4401, Train acc: 82.5397%, Val loss: 0.4497, Val acc: 79.0123%, Best Val loss: 0.4497, Best Val acc: 80.25%\n",
      "Epoch 48/300, Train loss: 0.4184, Train acc: 81.4815%, Val loss: 0.5026, Val acc: 75.3086%, Best Val loss: 0.4497, Best Val acc: 80.25%\n",
      "Epoch 49/300, Train loss: 0.4491, Train acc: 80.4233%, Val loss: 0.4498, Val acc: 77.7778%, Best Val loss: 0.4497, Best Val acc: 80.25%\n",
      "Epoch 50/300, Train loss: 0.4512, Train acc: 78.3069%, Val loss: 0.4495, Val acc: 79.0123%, Best Val loss: 0.4495, Best Val acc: 80.25%\n",
      "Epoch 51/300, Train loss: 0.4316, Train acc: 79.8942%, Val loss: 0.4675, Val acc: 80.2469%, Best Val loss: 0.4495, Best Val acc: 80.25%\n",
      "Epoch 52/300, Train loss: 0.4343, Train acc: 82.5397%, Val loss: 0.4428, Val acc: 79.0123%, Best Val loss: 0.4428, Best Val acc: 80.25%\n",
      "Epoch 53/300, Train loss: 0.4138, Train acc: 84.1270%, Val loss: 0.5252, Val acc: 72.8395%, Best Val loss: 0.4428, Best Val acc: 80.25%\n",
      "Epoch 54/300, Train loss: 0.4647, Train acc: 75.1323%, Val loss: 0.5081, Val acc: 77.7778%, Best Val loss: 0.4428, Best Val acc: 80.25%\n"
     ]
    },
    {
     "name": "stderr",
     "output_type": "stream",
     "text": [
      " 23%|██████████████████▎                                                              | 68/300 [00:00<00:02, 99.22it/s]"
     ]
    },
    {
     "name": "stdout",
     "output_type": "stream",
     "text": [
      "Epoch 55/300, Train loss: 0.4721, Train acc: 78.3069%, Val loss: 0.5280, Val acc: 70.3704%, Best Val loss: 0.4428, Best Val acc: 80.25%\n",
      "Epoch 56/300, Train loss: 0.4371, Train acc: 77.7778%, Val loss: 0.4410, Val acc: 79.0123%, Best Val loss: 0.4410, Best Val acc: 80.25%\n",
      "Epoch 57/300, Train loss: 0.4217, Train acc: 82.0106%, Val loss: 0.4398, Val acc: 79.0123%, Best Val loss: 0.4398, Best Val acc: 80.25%\n",
      "Epoch 58/300, Train loss: 0.4417, Train acc: 81.4815%, Val loss: 0.5349, Val acc: 70.3704%, Best Val loss: 0.4398, Best Val acc: 80.25%\n",
      "Epoch 59/300, Train loss: 0.4260, Train acc: 82.0106%, Val loss: 0.4408, Val acc: 79.0123%, Best Val loss: 0.4398, Best Val acc: 80.25%\n",
      "Epoch 60/300, Train loss: 0.3854, Train acc: 83.5979%, Val loss: 0.4654, Val acc: 79.0123%, Best Val loss: 0.4398, Best Val acc: 80.25%\n",
      "Epoch 61/300, Train loss: 0.3890, Train acc: 84.6561%, Val loss: 0.4441, Val acc: 79.0123%, Best Val loss: 0.4398, Best Val acc: 80.25%\n",
      "Epoch 62/300, Train loss: 0.4059, Train acc: 83.5979%, Val loss: 0.4379, Val acc: 77.7778%, Best Val loss: 0.4379, Best Val acc: 80.25%\n",
      "Epoch 63/300, Train loss: 0.3961, Train acc: 85.7143%, Val loss: 0.4447, Val acc: 80.2469%, Best Val loss: 0.4379, Best Val acc: 80.25%\n",
      "Epoch 64/300, Train loss: 0.3928, Train acc: 84.1270%, Val loss: 0.4806, Val acc: 79.0123%, Best Val loss: 0.4379, Best Val acc: 80.25%\n",
      "Epoch 65/300, Train loss: 0.4010, Train acc: 85.1852%, Val loss: 0.4550, Val acc: 80.2469%, Best Val loss: 0.4379, Best Val acc: 80.25%\n",
      "Epoch 66/300, Train loss: 0.3894, Train acc: 87.8307%, Val loss: 0.4436, Val acc: 81.4815%, Best Val loss: 0.4379, Best Val acc: 81.48%\n",
      "Epoch 67/300, Train loss: 0.3792, Train acc: 85.1852%, Val loss: 0.4839, Val acc: 76.5432%, Best Val loss: 0.4379, Best Val acc: 81.48%\n",
      "Epoch 68/300, Train loss: 0.3909, Train acc: 84.6561%, Val loss: 0.4431, Val acc: 80.2469%, Best Val loss: 0.4379, Best Val acc: 81.48%\n",
      "Epoch 69/300, Train loss: 0.3739, Train acc: 86.7725%, Val loss: 0.4703, Val acc: 80.2469%, Best Val loss: 0.4379, Best Val acc: 81.48%\n",
      "Epoch 70/300, Train loss: 0.3730, Train acc: 87.3016%, Val loss: 0.4364, Val acc: 79.0123%, Best Val loss: 0.4364, Best Val acc: 81.48%\n",
      "Epoch 71/300, Train loss: 0.3962, Train acc: 82.5397%, Val loss: 0.4371, Val acc: 79.0123%, Best Val loss: 0.4364, Best Val acc: 81.48%\n",
      "Epoch 72/300, Train loss: 0.3949, Train acc: 85.1852%, Val loss: 0.4911, Val acc: 77.7778%, Best Val loss: 0.4364, Best Val acc: 81.48%\n",
      "Epoch 73/300, Train loss: 0.3787, Train acc: 85.1852%, Val loss: 0.4467, Val acc: 81.4815%, Best Val loss: 0.4364, Best Val acc: 81.48%\n",
      "Epoch 74/300, Train loss: 0.3690, Train acc: 86.7725%, Val loss: 0.4552, Val acc: 80.2469%, Best Val loss: 0.4364, Best Val acc: 81.48%\n",
      "Epoch 75/300, Train loss: 0.3672, Train acc: 86.7725%, Val loss: 0.4364, Val acc: 77.7778%, Best Val loss: 0.4364, Best Val acc: 81.48%\n",
      "Epoch 76/300, Train loss: 0.3858, Train acc: 85.1852%, Val loss: 0.4693, Val acc: 81.4815%, Best Val loss: 0.4364, Best Val acc: 81.48%\n",
      "Epoch 77/300, Train loss: 0.3765, Train acc: 84.6561%, Val loss: 0.4616, Val acc: 81.4815%, Best Val loss: 0.4364, Best Val acc: 81.48%\n",
      "Epoch 78/300, Train loss: 0.3805, Train acc: 84.1270%, Val loss: 0.4355, Val acc: 79.0123%, Best Val loss: 0.4355, Best Val acc: 81.48%\n",
      "Epoch 79/300, Train loss: 0.3777, Train acc: 84.6561%, Val loss: 0.4953, Val acc: 77.7778%, Best Val loss: 0.4355, Best Val acc: 81.48%\n"
     ]
    },
    {
     "name": "stderr",
     "output_type": "stream",
     "text": [
      " 31%|████████████████████████▊                                                       | 93/300 [00:00<00:01, 108.44it/s]"
     ]
    },
    {
     "name": "stdout",
     "output_type": "stream",
     "text": [
      "Epoch 80/300, Train loss: 0.3761, Train acc: 84.1270%, Val loss: 0.4374, Val acc: 79.0123%, Best Val loss: 0.4355, Best Val acc: 81.48%\n",
      "Epoch 81/300, Train loss: 0.3791, Train acc: 84.6561%, Val loss: 0.4446, Val acc: 81.4815%, Best Val loss: 0.4355, Best Val acc: 81.48%\n",
      "Epoch 82/300, Train loss: 0.3776, Train acc: 84.6561%, Val loss: 0.4961, Val acc: 77.7778%, Best Val loss: 0.4355, Best Val acc: 81.48%\n",
      "Epoch 83/300, Train loss: 0.3810, Train acc: 84.6561%, Val loss: 0.4397, Val acc: 80.2469%, Best Val loss: 0.4355, Best Val acc: 81.48%\n",
      "Epoch 84/300, Train loss: 0.3666, Train acc: 88.8889%, Val loss: 0.4619, Val acc: 81.4815%, Best Val loss: 0.4355, Best Val acc: 81.48%\n",
      "Epoch 85/300, Train loss: 0.3752, Train acc: 84.1270%, Val loss: 0.4657, Val acc: 81.4815%, Best Val loss: 0.4355, Best Val acc: 81.48%\n",
      "Epoch 86/300, Train loss: 0.3621, Train acc: 87.8307%, Val loss: 0.4556, Val acc: 80.2469%, Best Val loss: 0.4355, Best Val acc: 81.48%\n",
      "Epoch 87/300, Train loss: 0.3741, Train acc: 85.7143%, Val loss: 0.4666, Val acc: 81.4815%, Best Val loss: 0.4355, Best Val acc: 81.48%\n",
      "Epoch 88/300, Train loss: 0.3616, Train acc: 85.7143%, Val loss: 0.4551, Val acc: 80.2469%, Best Val loss: 0.4355, Best Val acc: 81.48%\n",
      "Epoch 89/300, Train loss: 0.3588, Train acc: 86.7725%, Val loss: 0.4395, Val acc: 80.2469%, Best Val loss: 0.4355, Best Val acc: 81.48%\n",
      "Epoch 90/300, Train loss: 0.3604, Train acc: 87.8307%, Val loss: 0.4535, Val acc: 81.4815%, Best Val loss: 0.4355, Best Val acc: 81.48%\n",
      "Epoch 91/300, Train loss: 0.3628, Train acc: 86.2434%, Val loss: 0.4489, Val acc: 81.4815%, Best Val loss: 0.4355, Best Val acc: 81.48%\n",
      "Epoch 92/300, Train loss: 0.3617, Train acc: 86.2434%, Val loss: 0.4625, Val acc: 79.0123%, Best Val loss: 0.4355, Best Val acc: 81.48%\n",
      "Epoch 93/300, Train loss: 0.3540, Train acc: 87.3016%, Val loss: 0.4542, Val acc: 81.4815%, Best Val loss: 0.4355, Best Val acc: 81.48%\n",
      "Epoch 94/300, Train loss: 0.3555, Train acc: 87.8307%, Val loss: 0.5119, Val acc: 77.7778%, Best Val loss: 0.4355, Best Val acc: 81.48%\n",
      "Epoch 95/300, Train loss: 0.3624, Train acc: 86.7725%, Val loss: 0.4373, Val acc: 79.0123%, Best Val loss: 0.4355, Best Val acc: 81.48%\n",
      "Epoch 96/300, Train loss: 0.3546, Train acc: 86.7725%, Val loss: 0.5193, Val acc: 77.7778%, Best Val loss: 0.4355, Best Val acc: 81.48%\n",
      "Epoch 97/300, Train loss: 0.3667, Train acc: 87.3016%, Val loss: 0.4564, Val acc: 82.7160%, Best Val loss: 0.4355, Best Val acc: 82.72%\n",
      "Epoch 98/300, Train loss: 0.3511, Train acc: 86.7725%, Val loss: 0.4574, Val acc: 82.7160%, Best Val loss: 0.4355, Best Val acc: 82.72%\n",
      "Epoch 99/300, Train loss: 0.3633, Train acc: 85.1852%, Val loss: 0.5293, Val acc: 76.5432%, Best Val loss: 0.4355, Best Val acc: 82.72%\n",
      "Epoch 100/300, Train loss: 0.3821, Train acc: 82.0106%, Val loss: 0.4430, Val acc: 77.7778%, Best Val loss: 0.4355, Best Val acc: 82.72%\n",
      "Epoch 101/300, Train loss: 0.3949, Train acc: 85.7143%, Val loss: 0.4756, Val acc: 79.0123%, Best Val loss: 0.4355, Best Val acc: 82.72%\n"
     ]
    },
    {
     "name": "stderr",
     "output_type": "stream",
     "text": [
      " 39%|██████████████████████████████▌                                                | 116/300 [00:01<00:01, 107.23it/s]"
     ]
    },
    {
     "name": "stdout",
     "output_type": "stream",
     "text": [
      "Epoch 102/300, Train loss: 0.3938, Train acc: 81.4815%, Val loss: 0.5035, Val acc: 79.0123%, Best Val loss: 0.4355, Best Val acc: 82.72%\n",
      "Epoch 103/300, Train loss: 0.3824, Train acc: 85.7143%, Val loss: 0.4364, Val acc: 79.0123%, Best Val loss: 0.4355, Best Val acc: 82.72%\n",
      "Epoch 104/300, Train loss: 0.3733, Train acc: 83.5979%, Val loss: 0.5548, Val acc: 76.5432%, Best Val loss: 0.4355, Best Val acc: 82.72%\n",
      "Epoch 105/300, Train loss: 0.3943, Train acc: 84.6561%, Val loss: 0.4408, Val acc: 77.7778%, Best Val loss: 0.4355, Best Val acc: 82.72%\n",
      "Epoch 106/300, Train loss: 0.3745, Train acc: 85.1852%, Val loss: 0.4954, Val acc: 77.7778%, Best Val loss: 0.4355, Best Val acc: 82.72%\n",
      "Epoch 107/300, Train loss: 0.3631, Train acc: 86.7725%, Val loss: 0.4656, Val acc: 79.0123%, Best Val loss: 0.4355, Best Val acc: 82.72%\n",
      "Epoch 108/300, Train loss: 0.3608, Train acc: 85.1852%, Val loss: 0.4386, Val acc: 80.2469%, Best Val loss: 0.4355, Best Val acc: 82.72%\n",
      "Epoch 109/300, Train loss: 0.3677, Train acc: 85.1852%, Val loss: 0.4481, Val acc: 81.4815%, Best Val loss: 0.4355, Best Val acc: 82.72%\n",
      "Epoch 110/300, Train loss: 0.3709, Train acc: 85.1852%, Val loss: 0.5945, Val acc: 71.6049%, Best Val loss: 0.4355, Best Val acc: 82.72%\n",
      "Epoch 111/300, Train loss: 0.3987, Train acc: 81.4815%, Val loss: 0.4429, Val acc: 77.7778%, Best Val loss: 0.4355, Best Val acc: 82.72%\n",
      "Epoch 112/300, Train loss: 0.4265, Train acc: 79.8942%, Val loss: 0.4779, Val acc: 77.7778%, Best Val loss: 0.4355, Best Val acc: 82.72%\n",
      "Epoch 113/300, Train loss: 0.3630, Train acc: 86.7725%, Val loss: 0.4445, Val acc: 80.2469%, Best Val loss: 0.4355, Best Val acc: 82.72%\n",
      "Epoch 114/300, Train loss: 0.3719, Train acc: 86.7725%, Val loss: 0.4698, Val acc: 79.0123%, Best Val loss: 0.4355, Best Val acc: 82.72%\n",
      "Epoch 115/300, Train loss: 0.3653, Train acc: 86.2434%, Val loss: 0.4583, Val acc: 82.7160%, Best Val loss: 0.4355, Best Val acc: 82.72%\n",
      "Epoch 116/300, Train loss: 0.3587, Train acc: 86.7725%, Val loss: 0.4586, Val acc: 82.7160%, Best Val loss: 0.4355, Best Val acc: 82.72%\n",
      "Epoch 117/300, Train loss: 0.3625, Train acc: 84.1270%, Val loss: 0.4871, Val acc: 77.7778%, Best Val loss: 0.4355, Best Val acc: 82.72%\n",
      "Epoch 118/300, Train loss: 0.3686, Train acc: 85.1852%, Val loss: 0.4443, Val acc: 80.2469%, Best Val loss: 0.4355, Best Val acc: 82.72%\n",
      "Epoch 119/300, Train loss: 0.3508, Train acc: 86.7725%, Val loss: 0.4753, Val acc: 79.0123%, Best Val loss: 0.4355, Best Val acc: 82.72%\n",
      "Epoch 120/300, Train loss: 0.3436, Train acc: 86.7725%, Val loss: 0.4593, Val acc: 80.2469%, Best Val loss: 0.4355, Best Val acc: 82.72%\n",
      "Epoch 121/300, Train loss: 0.3445, Train acc: 86.7725%, Val loss: 0.4607, Val acc: 80.2469%, Best Val loss: 0.4355, Best Val acc: 82.72%\n",
      "Epoch 122/300, Train loss: 0.3762, Train acc: 84.6561%, Val loss: 0.5587, Val acc: 77.7778%, Best Val loss: 0.4355, Best Val acc: 82.72%\n",
      "Epoch 123/300, Train loss: 0.3851, Train acc: 85.7143%, Val loss: 0.4406, Val acc: 77.7778%, Best Val loss: 0.4355, Best Val acc: 82.72%\n",
      "Epoch 124/300, Train loss: 0.3951, Train acc: 82.0106%, Val loss: 0.5273, Val acc: 77.7778%, Best Val loss: 0.4355, Best Val acc: 82.72%\n",
      "Epoch 125/300, Train loss: 0.3619, Train acc: 87.8307%, Val loss: 0.4611, Val acc: 80.2469%, Best Val loss: 0.4355, Best Val acc: 82.72%\n",
      "Epoch 126/300, Train loss: 0.3634, Train acc: 87.8307%, Val loss: 0.4410, Val acc: 79.0123%, Best Val loss: 0.4355, Best Val acc: 82.72%\n"
     ]
    },
    {
     "name": "stderr",
     "output_type": "stream",
     "text": [
      " 46%|████████████████████████████████████▌                                          | 139/300 [00:01<00:01, 106.70it/s]"
     ]
    },
    {
     "name": "stdout",
     "output_type": "stream",
     "text": [
      "Epoch 127/300, Train loss: 0.3562, Train acc: 85.7143%, Val loss: 0.4914, Val acc: 76.5432%, Best Val loss: 0.4355, Best Val acc: 82.72%\n",
      "Epoch 128/300, Train loss: 0.3496, Train acc: 86.7725%, Val loss: 0.4405, Val acc: 80.2469%, Best Val loss: 0.4355, Best Val acc: 82.72%\n",
      "Epoch 129/300, Train loss: 0.3873, Train acc: 83.0688%, Val loss: 0.5274, Val acc: 77.7778%, Best Val loss: 0.4355, Best Val acc: 82.72%\n",
      "Epoch 130/300, Train loss: 0.4098, Train acc: 84.1270%, Val loss: 0.4423, Val acc: 79.0123%, Best Val loss: 0.4355, Best Val acc: 82.72%\n",
      "Epoch 131/300, Train loss: 0.3920, Train acc: 83.0688%, Val loss: 0.4744, Val acc: 79.0123%, Best Val loss: 0.4355, Best Val acc: 82.72%\n",
      "Epoch 132/300, Train loss: 0.3653, Train acc: 85.1852%, Val loss: 0.4424, Val acc: 79.0123%, Best Val loss: 0.4355, Best Val acc: 82.72%\n",
      "Epoch 133/300, Train loss: 0.3953, Train acc: 84.1270%, Val loss: 0.5332, Val acc: 77.7778%, Best Val loss: 0.4355, Best Val acc: 82.72%\n",
      "Epoch 134/300, Train loss: 0.3881, Train acc: 83.5979%, Val loss: 0.4423, Val acc: 79.0123%, Best Val loss: 0.4355, Best Val acc: 82.72%\n",
      "Epoch 135/300, Train loss: 0.3600, Train acc: 83.5979%, Val loss: 0.4669, Val acc: 80.2469%, Best Val loss: 0.4355, Best Val acc: 82.72%\n",
      "Epoch 136/300, Train loss: 0.3805, Train acc: 84.6561%, Val loss: 0.4502, Val acc: 81.4815%, Best Val loss: 0.4355, Best Val acc: 82.72%\n",
      "Epoch 137/300, Train loss: 0.4052, Train acc: 82.5397%, Val loss: 0.4666, Val acc: 80.2469%, Best Val loss: 0.4355, Best Val acc: 82.72%\n",
      "Epoch 138/300, Train loss: 0.3756, Train acc: 84.1270%, Val loss: 0.4906, Val acc: 76.5432%, Best Val loss: 0.4355, Best Val acc: 82.72%\n",
      "Epoch 139/300, Train loss: 0.3821, Train acc: 85.1852%, Val loss: 0.4540, Val acc: 81.4815%, Best Val loss: 0.4355, Best Val acc: 82.72%\n",
      "Epoch 140/300, Train loss: 0.3412, Train acc: 87.8307%, Val loss: 0.5033, Val acc: 77.7778%, Best Val loss: 0.4355, Best Val acc: 82.72%\n",
      "Epoch 141/300, Train loss: 0.3499, Train acc: 87.3016%, Val loss: 0.4449, Val acc: 80.2469%, Best Val loss: 0.4355, Best Val acc: 82.72%\n",
      "Epoch 142/300, Train loss: 0.3413, Train acc: 87.3016%, Val loss: 0.5193, Val acc: 77.7778%, Best Val loss: 0.4355, Best Val acc: 82.72%\n",
      "Epoch 143/300, Train loss: 0.3491, Train acc: 86.2434%, Val loss: 0.4452, Val acc: 79.0123%, Best Val loss: 0.4355, Best Val acc: 82.72%\n",
      "Epoch 144/300, Train loss: 0.3556, Train acc: 85.1852%, Val loss: 0.4835, Val acc: 77.7778%, Best Val loss: 0.4355, Best Val acc: 82.72%\n",
      "Epoch 145/300, Train loss: 0.3673, Train acc: 83.5979%, Val loss: 0.4524, Val acc: 81.4815%, Best Val loss: 0.4355, Best Val acc: 82.72%\n",
      "Epoch 146/300, Train loss: 0.3934, Train acc: 82.5397%, Val loss: 0.4897, Val acc: 77.7778%, Best Val loss: 0.4355, Best Val acc: 82.72%\n",
      "Epoch 147/300, Train loss: 0.3671, Train acc: 85.7143%, Val loss: 0.4742, Val acc: 79.0123%, Best Val loss: 0.4355, Best Val acc: 82.72%\n",
      "Epoch 148/300, Train loss: 0.3367, Train acc: 87.3016%, Val loss: 0.4431, Val acc: 79.0123%, Best Val loss: 0.4355, Best Val acc: 82.72%\n",
      "Epoch 149/300, Train loss: 0.3452, Train acc: 85.1852%, Val loss: 0.5447, Val acc: 76.5432%, Best Val loss: 0.4355, Best Val acc: 82.72%\n",
      "Epoch 150/300, Train loss: 0.3536, Train acc: 87.8307%, Val loss: 0.4500, Val acc: 80.2469%, Best Val loss: 0.4355, Best Val acc: 82.72%\n"
     ]
    },
    {
     "name": "stderr",
     "output_type": "stream",
     "text": [
      " 54%|██████████████████████████████████████████▉                                    | 163/300 [00:01<00:01, 110.34it/s]"
     ]
    },
    {
     "name": "stdout",
     "output_type": "stream",
     "text": [
      "Epoch 151/300, Train loss: 0.3541, Train acc: 86.2434%, Val loss: 0.4676, Val acc: 80.2469%, Best Val loss: 0.4355, Best Val acc: 82.72%\n",
      "Epoch 152/300, Train loss: 0.3375, Train acc: 88.3598%, Val loss: 0.5099, Val acc: 79.0123%, Best Val loss: 0.4355, Best Val acc: 82.72%\n",
      "Epoch 153/300, Train loss: 0.3370, Train acc: 87.8307%, Val loss: 0.4461, Val acc: 79.0123%, Best Val loss: 0.4355, Best Val acc: 82.72%\n",
      "Epoch 154/300, Train loss: 0.3598, Train acc: 85.7143%, Val loss: 0.5111, Val acc: 77.7778%, Best Val loss: 0.4355, Best Val acc: 82.72%\n",
      "Epoch 155/300, Train loss: 0.3595, Train acc: 87.3016%, Val loss: 0.4587, Val acc: 80.2469%, Best Val loss: 0.4355, Best Val acc: 82.72%\n",
      "Epoch 156/300, Train loss: 0.3427, Train acc: 87.8307%, Val loss: 0.4694, Val acc: 80.2469%, Best Val loss: 0.4355, Best Val acc: 82.72%\n",
      "Epoch 157/300, Train loss: 0.3427, Train acc: 87.8307%, Val loss: 0.4855, Val acc: 77.7778%, Best Val loss: 0.4355, Best Val acc: 82.72%\n",
      "Epoch 158/300, Train loss: 0.3371, Train acc: 86.7725%, Val loss: 0.4632, Val acc: 80.2469%, Best Val loss: 0.4355, Best Val acc: 82.72%\n",
      "Epoch 159/300, Train loss: 0.3403, Train acc: 87.8307%, Val loss: 0.4781, Val acc: 77.7778%, Best Val loss: 0.4355, Best Val acc: 82.72%\n",
      "Epoch 160/300, Train loss: 0.3396, Train acc: 87.3016%, Val loss: 0.4768, Val acc: 79.0123%, Best Val loss: 0.4355, Best Val acc: 82.72%\n",
      "Epoch 161/300, Train loss: 0.3395, Train acc: 87.8307%, Val loss: 0.4588, Val acc: 80.2469%, Best Val loss: 0.4355, Best Val acc: 82.72%\n",
      "Epoch 162/300, Train loss: 0.3385, Train acc: 87.8307%, Val loss: 0.4629, Val acc: 80.2469%, Best Val loss: 0.4355, Best Val acc: 82.72%\n",
      "Epoch 163/300, Train loss: 0.3456, Train acc: 86.2434%, Val loss: 0.4774, Val acc: 79.0123%, Best Val loss: 0.4355, Best Val acc: 82.72%\n",
      "Epoch 164/300, Train loss: 0.3424, Train acc: 87.8307%, Val loss: 0.4566, Val acc: 80.2469%, Best Val loss: 0.4355, Best Val acc: 82.72%\n",
      "Epoch 165/300, Train loss: 0.3559, Train acc: 86.7725%, Val loss: 0.4823, Val acc: 77.7778%, Best Val loss: 0.4355, Best Val acc: 82.72%\n",
      "Epoch 166/300, Train loss: 0.3522, Train acc: 86.7725%, Val loss: 0.4573, Val acc: 82.7160%, Best Val loss: 0.4355, Best Val acc: 82.72%\n",
      "Epoch 167/300, Train loss: 0.3364, Train acc: 87.8307%, Val loss: 0.5036, Val acc: 79.0123%, Best Val loss: 0.4355, Best Val acc: 82.72%\n",
      "Epoch 168/300, Train loss: 0.3443, Train acc: 86.7725%, Val loss: 0.4544, Val acc: 82.7160%, Best Val loss: 0.4355, Best Val acc: 82.72%\n",
      "Epoch 169/300, Train loss: 0.3503, Train acc: 85.1852%, Val loss: 0.4973, Val acc: 76.5432%, Best Val loss: 0.4355, Best Val acc: 82.72%\n",
      "Epoch 170/300, Train loss: 0.3445, Train acc: 87.3016%, Val loss: 0.4740, Val acc: 80.2469%, Best Val loss: 0.4355, Best Val acc: 82.72%\n",
      "Epoch 171/300, Train loss: 0.3368, Train acc: 88.3598%, Val loss: 0.4593, Val acc: 80.2469%, Best Val loss: 0.4355, Best Val acc: 82.72%\n",
      "Epoch 172/300, Train loss: 0.3442, Train acc: 88.3598%, Val loss: 0.4756, Val acc: 80.2469%, Best Val loss: 0.4355, Best Val acc: 82.72%\n",
      "Epoch 173/300, Train loss: 0.3382, Train acc: 87.8307%, Val loss: 0.4547, Val acc: 82.7160%, Best Val loss: 0.4355, Best Val acc: 82.72%\n",
      "Epoch 174/300, Train loss: 0.3457, Train acc: 87.3016%, Val loss: 0.4752, Val acc: 80.2469%, Best Val loss: 0.4355, Best Val acc: 82.72%\n"
     ]
    },
    {
     "name": "stderr",
     "output_type": "stream",
     "text": [
      " 62%|█████████████████████████████████████████████████▏                             | 187/300 [00:01<00:01, 110.56it/s]"
     ]
    },
    {
     "name": "stdout",
     "output_type": "stream",
     "text": [
      "Epoch 175/300, Train loss: 0.3368, Train acc: 87.8307%, Val loss: 0.4690, Val acc: 80.2469%, Best Val loss: 0.4355, Best Val acc: 82.72%\n",
      "Epoch 176/300, Train loss: 0.3392, Train acc: 87.3016%, Val loss: 0.4644, Val acc: 80.2469%, Best Val loss: 0.4355, Best Val acc: 82.72%\n",
      "Epoch 177/300, Train loss: 0.3413, Train acc: 87.8307%, Val loss: 0.4854, Val acc: 77.7778%, Best Val loss: 0.4355, Best Val acc: 82.72%\n",
      "Epoch 178/300, Train loss: 0.3377, Train acc: 88.3598%, Val loss: 0.4590, Val acc: 80.2469%, Best Val loss: 0.4355, Best Val acc: 82.72%\n",
      "Epoch 179/300, Train loss: 0.3392, Train acc: 87.3016%, Val loss: 0.5014, Val acc: 76.5432%, Best Val loss: 0.4355, Best Val acc: 82.72%\n",
      "Epoch 180/300, Train loss: 0.3525, Train acc: 87.8307%, Val loss: 0.4622, Val acc: 80.2469%, Best Val loss: 0.4355, Best Val acc: 82.72%\n",
      "Epoch 181/300, Train loss: 0.3372, Train acc: 87.8307%, Val loss: 0.4541, Val acc: 81.4815%, Best Val loss: 0.4355, Best Val acc: 82.72%\n",
      "Epoch 182/300, Train loss: 0.3396, Train acc: 88.3598%, Val loss: 0.5020, Val acc: 77.7778%, Best Val loss: 0.4355, Best Val acc: 82.72%\n",
      "Epoch 183/300, Train loss: 0.3430, Train acc: 87.8307%, Val loss: 0.4738, Val acc: 80.2469%, Best Val loss: 0.4355, Best Val acc: 82.72%\n",
      "Epoch 184/300, Train loss: 0.3354, Train acc: 87.8307%, Val loss: 0.4862, Val acc: 77.7778%, Best Val loss: 0.4355, Best Val acc: 82.72%\n",
      "Epoch 185/300, Train loss: 0.3386, Train acc: 87.8307%, Val loss: 0.4692, Val acc: 80.2469%, Best Val loss: 0.4355, Best Val acc: 82.72%\n",
      "Epoch 186/300, Train loss: 0.3383, Train acc: 87.8307%, Val loss: 0.4833, Val acc: 77.7778%, Best Val loss: 0.4355, Best Val acc: 82.72%\n",
      "Epoch 187/300, Train loss: 0.3394, Train acc: 88.3598%, Val loss: 0.4558, Val acc: 82.7160%, Best Val loss: 0.4355, Best Val acc: 82.72%\n",
      "Epoch 188/300, Train loss: 0.3618, Train acc: 85.7143%, Val loss: 0.4539, Val acc: 81.4815%, Best Val loss: 0.4355, Best Val acc: 82.72%\n",
      "Epoch 189/300, Train loss: 0.3858, Train acc: 84.1270%, Val loss: 0.5356, Val acc: 77.7778%, Best Val loss: 0.4355, Best Val acc: 82.72%\n",
      "Epoch 190/300, Train loss: 0.3300, Train acc: 87.3016%, Val loss: 0.4444, Val acc: 77.7778%, Best Val loss: 0.4355, Best Val acc: 82.72%\n",
      "Epoch 191/300, Train loss: 0.3782, Train acc: 83.0688%, Val loss: 0.4843, Val acc: 77.7778%, Best Val loss: 0.4355, Best Val acc: 82.72%\n",
      "Epoch 192/300, Train loss: 0.3654, Train acc: 85.1852%, Val loss: 0.5505, Val acc: 77.7778%, Best Val loss: 0.4355, Best Val acc: 82.72%\n",
      "Epoch 193/300, Train loss: 0.3352, Train acc: 87.3016%, Val loss: 0.4456, Val acc: 77.7778%, Best Val loss: 0.4355, Best Val acc: 82.72%\n",
      "Epoch 194/300, Train loss: 0.3666, Train acc: 83.0688%, Val loss: 0.4892, Val acc: 77.7778%, Best Val loss: 0.4355, Best Val acc: 82.72%\n",
      "Epoch 195/300, Train loss: 0.3670, Train acc: 85.1852%, Val loss: 0.4945, Val acc: 77.7778%, Best Val loss: 0.4355, Best Val acc: 82.72%\n",
      "Epoch 196/300, Train loss: 0.3455, Train acc: 85.1852%, Val loss: 0.4438, Val acc: 77.7778%, Best Val loss: 0.4355, Best Val acc: 82.72%\n",
      "Epoch 197/300, Train loss: 0.3489, Train acc: 85.1852%, Val loss: 0.5116, Val acc: 79.0123%, Best Val loss: 0.4355, Best Val acc: 82.72%\n",
      "Epoch 198/300, Train loss: 0.3695, Train acc: 85.7143%, Val loss: 0.5013, Val acc: 77.7778%, Best Val loss: 0.4355, Best Val acc: 82.72%\n"
     ]
    },
    {
     "name": "stderr",
     "output_type": "stream",
     "text": [
      " 70%|███████████████████████████████████████████████████████▌                       | 211/300 [00:02<00:00, 106.91it/s]"
     ]
    },
    {
     "name": "stdout",
     "output_type": "stream",
     "text": [
      "Epoch 199/300, Train loss: 0.3954, Train acc: 84.6561%, Val loss: 0.4440, Val acc: 79.0123%, Best Val loss: 0.4355, Best Val acc: 82.72%\n",
      "Epoch 200/300, Train loss: 0.3419, Train acc: 86.7725%, Val loss: 0.5600, Val acc: 76.5432%, Best Val loss: 0.4355, Best Val acc: 82.72%\n",
      "Epoch 201/300, Train loss: 0.3611, Train acc: 86.7725%, Val loss: 0.4650, Val acc: 80.2469%, Best Val loss: 0.4355, Best Val acc: 82.72%\n",
      "Epoch 202/300, Train loss: 0.3484, Train acc: 84.6561%, Val loss: 0.4470, Val acc: 79.0123%, Best Val loss: 0.4355, Best Val acc: 82.72%\n",
      "Epoch 203/300, Train loss: 0.3481, Train acc: 85.1852%, Val loss: 0.5263, Val acc: 77.7778%, Best Val loss: 0.4355, Best Val acc: 82.72%\n",
      "Epoch 204/300, Train loss: 0.3560, Train acc: 86.7725%, Val loss: 0.4551, Val acc: 80.2469%, Best Val loss: 0.4355, Best Val acc: 82.72%\n",
      "Epoch 205/300, Train loss: 0.3374, Train acc: 88.3598%, Val loss: 0.4722, Val acc: 80.2469%, Best Val loss: 0.4355, Best Val acc: 82.72%\n",
      "Epoch 206/300, Train loss: 0.3333, Train acc: 87.8307%, Val loss: 0.4910, Val acc: 77.7778%, Best Val loss: 0.4355, Best Val acc: 82.72%\n",
      "Epoch 207/300, Train loss: 0.3354, Train acc: 88.3598%, Val loss: 0.4695, Val acc: 80.2469%, Best Val loss: 0.4355, Best Val acc: 82.72%\n",
      "Epoch 208/300, Train loss: 0.3343, Train acc: 87.3016%, Val loss: 0.4663, Val acc: 80.2469%, Best Val loss: 0.4355, Best Val acc: 82.72%\n",
      "Epoch 209/300, Train loss: 0.3341, Train acc: 87.8307%, Val loss: 0.4838, Val acc: 77.7778%, Best Val loss: 0.4355, Best Val acc: 82.72%\n",
      "Epoch 210/300, Train loss: 0.3377, Train acc: 87.8307%, Val loss: 0.4754, Val acc: 80.2469%, Best Val loss: 0.4355, Best Val acc: 82.72%\n",
      "Epoch 211/300, Train loss: 0.3330, Train acc: 87.8307%, Val loss: 0.4824, Val acc: 77.7778%, Best Val loss: 0.4355, Best Val acc: 82.72%\n",
      "Epoch 212/300, Train loss: 0.3357, Train acc: 87.8307%, Val loss: 0.4721, Val acc: 80.2469%, Best Val loss: 0.4355, Best Val acc: 82.72%\n",
      "Epoch 213/300, Train loss: 0.3409, Train acc: 88.3598%, Val loss: 0.4688, Val acc: 80.2469%, Best Val loss: 0.4355, Best Val acc: 82.72%\n",
      "Epoch 214/300, Train loss: 0.3435, Train acc: 87.3016%, Val loss: 0.5137, Val acc: 77.7778%, Best Val loss: 0.4355, Best Val acc: 82.72%\n",
      "Epoch 215/300, Train loss: 0.3391, Train acc: 87.3016%, Val loss: 0.4571, Val acc: 81.4815%, Best Val loss: 0.4355, Best Val acc: 82.72%\n",
      "Epoch 216/300, Train loss: 0.3375, Train acc: 87.3016%, Val loss: 0.4708, Val acc: 80.2469%, Best Val loss: 0.4355, Best Val acc: 82.72%\n",
      "Epoch 217/300, Train loss: 0.3332, Train acc: 87.8307%, Val loss: 0.4943, Val acc: 77.7778%, Best Val loss: 0.4355, Best Val acc: 82.72%\n",
      "Epoch 218/300, Train loss: 0.3366, Train acc: 87.3016%, Val loss: 0.4722, Val acc: 80.2469%, Best Val loss: 0.4355, Best Val acc: 82.72%\n",
      "Epoch 219/300, Train loss: 0.3322, Train acc: 87.8307%, Val loss: 0.4602, Val acc: 80.2469%, Best Val loss: 0.4355, Best Val acc: 82.72%\n"
     ]
    },
    {
     "name": "stderr",
     "output_type": "stream",
     "text": [
      " 78%|█████████████████████████████████████████████████████████████▎                 | 233/300 [00:02<00:00, 104.79it/s]"
     ]
    },
    {
     "name": "stdout",
     "output_type": "stream",
     "text": [
      "Epoch 220/300, Train loss: 0.3334, Train acc: 87.8307%, Val loss: 0.4776, Val acc: 79.0123%, Best Val loss: 0.4355, Best Val acc: 82.72%\n",
      "Epoch 221/300, Train loss: 0.3327, Train acc: 88.8889%, Val loss: 0.4942, Val acc: 77.7778%, Best Val loss: 0.4355, Best Val acc: 82.72%\n",
      "Epoch 222/300, Train loss: 0.3360, Train acc: 88.3598%, Val loss: 0.4745, Val acc: 80.2469%, Best Val loss: 0.4355, Best Val acc: 82.72%\n",
      "Epoch 223/300, Train loss: 0.3409, Train acc: 88.3598%, Val loss: 0.4575, Val acc: 81.4815%, Best Val loss: 0.4355, Best Val acc: 82.72%\n",
      "Epoch 224/300, Train loss: 0.3355, Train acc: 88.3598%, Val loss: 0.4902, Val acc: 77.7778%, Best Val loss: 0.4355, Best Val acc: 82.72%\n",
      "Epoch 225/300, Train loss: 0.3386, Train acc: 88.3598%, Val loss: 0.4933, Val acc: 77.7778%, Best Val loss: 0.4355, Best Val acc: 82.72%\n",
      "Epoch 226/300, Train loss: 0.3425, Train acc: 86.7725%, Val loss: 0.4571, Val acc: 81.4815%, Best Val loss: 0.4355, Best Val acc: 82.72%\n",
      "Epoch 227/300, Train loss: 0.3363, Train acc: 87.8307%, Val loss: 0.4744, Val acc: 80.2469%, Best Val loss: 0.4355, Best Val acc: 82.72%\n",
      "Epoch 228/300, Train loss: 0.3404, Train acc: 87.8307%, Val loss: 0.5082, Val acc: 77.7778%, Best Val loss: 0.4355, Best Val acc: 82.72%\n",
      "Epoch 229/300, Train loss: 0.3347, Train acc: 88.8889%, Val loss: 0.4733, Val acc: 80.2469%, Best Val loss: 0.4355, Best Val acc: 82.72%\n",
      "Epoch 230/300, Train loss: 0.3331, Train acc: 87.8307%, Val loss: 0.4572, Val acc: 81.4815%, Best Val loss: 0.4355, Best Val acc: 82.72%\n",
      "Epoch 231/300, Train loss: 0.3443, Train acc: 87.3016%, Val loss: 0.4637, Val acc: 80.2469%, Best Val loss: 0.4355, Best Val acc: 82.72%\n",
      "Epoch 232/300, Train loss: 0.3330, Train acc: 88.3598%, Val loss: 0.5164, Val acc: 77.7778%, Best Val loss: 0.4355, Best Val acc: 82.72%\n",
      "Epoch 233/300, Train loss: 0.3409, Train acc: 87.8307%, Val loss: 0.4923, Val acc: 77.7778%, Best Val loss: 0.4355, Best Val acc: 82.72%\n",
      "Epoch 234/300, Train loss: 0.3320, Train acc: 88.8889%, Val loss: 0.4599, Val acc: 80.2469%, Best Val loss: 0.4355, Best Val acc: 82.72%\n",
      "Epoch 235/300, Train loss: 0.3366, Train acc: 88.3598%, Val loss: 0.4610, Val acc: 80.2469%, Best Val loss: 0.4355, Best Val acc: 82.72%\n",
      "Epoch 236/300, Train loss: 0.3335, Train acc: 87.3016%, Val loss: 0.4831, Val acc: 77.7778%, Best Val loss: 0.4355, Best Val acc: 82.72%\n",
      "Epoch 237/300, Train loss: 0.3405, Train acc: 87.3016%, Val loss: 0.5036, Val acc: 76.5432%, Best Val loss: 0.4355, Best Val acc: 82.72%\n",
      "Epoch 238/300, Train loss: 0.3341, Train acc: 88.3598%, Val loss: 0.4695, Val acc: 80.2469%, Best Val loss: 0.4355, Best Val acc: 82.72%\n",
      "Epoch 239/300, Train loss: 0.3356, Train acc: 88.3598%, Val loss: 0.4571, Val acc: 81.4815%, Best Val loss: 0.4355, Best Val acc: 82.72%\n",
      "Epoch 240/300, Train loss: 0.3358, Train acc: 87.8307%, Val loss: 0.4681, Val acc: 80.2469%, Best Val loss: 0.4355, Best Val acc: 82.72%\n"
     ]
    },
    {
     "name": "stderr",
     "output_type": "stream",
     "text": [
      " 85%|███████████████████████████████████████████████████████████████████▍           | 256/300 [00:02<00:00, 103.85it/s]"
     ]
    },
    {
     "name": "stdout",
     "output_type": "stream",
     "text": [
      "Epoch 241/300, Train loss: 0.3384, Train acc: 87.8307%, Val loss: 0.5043, Val acc: 76.5432%, Best Val loss: 0.4355, Best Val acc: 82.72%\n",
      "Epoch 242/300, Train loss: 0.3390, Train acc: 87.8307%, Val loss: 0.4859, Val acc: 77.7778%, Best Val loss: 0.4355, Best Val acc: 82.72%\n",
      "Epoch 243/300, Train loss: 0.3354, Train acc: 87.3016%, Val loss: 0.4598, Val acc: 80.2469%, Best Val loss: 0.4355, Best Val acc: 82.72%\n",
      "Epoch 244/300, Train loss: 0.3356, Train acc: 87.3016%, Val loss: 0.4699, Val acc: 80.2469%, Best Val loss: 0.4355, Best Val acc: 82.72%\n",
      "Epoch 245/300, Train loss: 0.3340, Train acc: 87.8307%, Val loss: 0.4773, Val acc: 79.0123%, Best Val loss: 0.4355, Best Val acc: 82.72%\n",
      "Epoch 246/300, Train loss: 0.3312, Train acc: 88.3598%, Val loss: 0.4858, Val acc: 77.7778%, Best Val loss: 0.4355, Best Val acc: 82.72%\n",
      "Epoch 247/300, Train loss: 0.3327, Train acc: 87.8307%, Val loss: 0.4762, Val acc: 80.2469%, Best Val loss: 0.4355, Best Val acc: 82.72%\n",
      "Epoch 248/300, Train loss: 0.3315, Train acc: 87.8307%, Val loss: 0.4752, Val acc: 80.2469%, Best Val loss: 0.4355, Best Val acc: 82.72%\n",
      "Epoch 249/300, Train loss: 0.3319, Train acc: 87.8307%, Val loss: 0.4741, Val acc: 80.2469%, Best Val loss: 0.4355, Best Val acc: 82.72%\n",
      "Epoch 250/300, Train loss: 0.3321, Train acc: 87.8307%, Val loss: 0.4772, Val acc: 79.0123%, Best Val loss: 0.4355, Best Val acc: 82.72%\n",
      "Epoch 251/300, Train loss: 0.3320, Train acc: 87.8307%, Val loss: 0.4747, Val acc: 80.2469%, Best Val loss: 0.4355, Best Val acc: 82.72%\n",
      "Epoch 252/300, Train loss: 0.3328, Train acc: 87.8307%, Val loss: 0.4811, Val acc: 79.0123%, Best Val loss: 0.4355, Best Val acc: 82.72%\n",
      "Epoch 253/300, Train loss: 0.3335, Train acc: 87.8307%, Val loss: 0.4820, Val acc: 79.0123%, Best Val loss: 0.4355, Best Val acc: 82.72%\n",
      "Epoch 254/300, Train loss: 0.3329, Train acc: 88.3598%, Val loss: 0.4739, Val acc: 80.2469%, Best Val loss: 0.4355, Best Val acc: 82.72%\n",
      "Epoch 255/300, Train loss: 0.3384, Train acc: 87.3016%, Val loss: 0.4645, Val acc: 80.2469%, Best Val loss: 0.4355, Best Val acc: 82.72%\n",
      "Epoch 256/300, Train loss: 0.3342, Train acc: 87.3016%, Val loss: 0.4811, Val acc: 79.0123%, Best Val loss: 0.4355, Best Val acc: 82.72%\n",
      "Epoch 257/300, Train loss: 0.3326, Train acc: 88.3598%, Val loss: 0.4878, Val acc: 77.7778%, Best Val loss: 0.4355, Best Val acc: 82.72%\n",
      "Epoch 258/300, Train loss: 0.3340, Train acc: 88.3598%, Val loss: 0.4770, Val acc: 79.0123%, Best Val loss: 0.4355, Best Val acc: 82.72%\n",
      "Epoch 259/300, Train loss: 0.3326, Train acc: 87.8307%, Val loss: 0.4750, Val acc: 80.2469%, Best Val loss: 0.4355, Best Val acc: 82.72%\n",
      "Epoch 260/300, Train loss: 0.3315, Train acc: 87.8307%, Val loss: 0.4721, Val acc: 80.2469%, Best Val loss: 0.4355, Best Val acc: 82.72%\n",
      "Epoch 261/300, Train loss: 0.3334, Train acc: 87.8307%, Val loss: 0.4715, Val acc: 80.2469%, Best Val loss: 0.4355, Best Val acc: 82.72%\n",
      "Epoch 262/300, Train loss: 0.3337, Train acc: 87.8307%, Val loss: 0.4767, Val acc: 79.0123%, Best Val loss: 0.4355, Best Val acc: 82.72%\n"
     ]
    },
    {
     "name": "stderr",
     "output_type": "stream",
     "text": [
      " 93%|██████████████████████████████████████████████████████████████████████████▏     | 278/300 [00:02<00:00, 98.83it/s]"
     ]
    },
    {
     "name": "stdout",
     "output_type": "stream",
     "text": [
      "Epoch 263/300, Train loss: 0.3327, Train acc: 88.3598%, Val loss: 0.4835, Val acc: 79.0123%, Best Val loss: 0.4355, Best Val acc: 82.72%\n",
      "Epoch 264/300, Train loss: 0.3329, Train acc: 88.3598%, Val loss: 0.4829, Val acc: 79.0123%, Best Val loss: 0.4355, Best Val acc: 82.72%\n",
      "Epoch 265/300, Train loss: 0.3315, Train acc: 88.3598%, Val loss: 0.4802, Val acc: 79.0123%, Best Val loss: 0.4355, Best Val acc: 82.72%\n",
      "Epoch 266/300, Train loss: 0.3330, Train acc: 87.8307%, Val loss: 0.4729, Val acc: 80.2469%, Best Val loss: 0.4355, Best Val acc: 82.72%\n",
      "Epoch 267/300, Train loss: 0.3307, Train acc: 87.8307%, Val loss: 0.4724, Val acc: 80.2469%, Best Val loss: 0.4355, Best Val acc: 82.72%\n",
      "Epoch 268/300, Train loss: 0.3339, Train acc: 87.8307%, Val loss: 0.4711, Val acc: 80.2469%, Best Val loss: 0.4355, Best Val acc: 82.72%\n",
      "Epoch 269/300, Train loss: 0.3322, Train acc: 87.8307%, Val loss: 0.4755, Val acc: 80.2469%, Best Val loss: 0.4355, Best Val acc: 82.72%\n",
      "Epoch 270/300, Train loss: 0.3325, Train acc: 87.8307%, Val loss: 0.4788, Val acc: 79.0123%, Best Val loss: 0.4355, Best Val acc: 82.72%\n",
      "Epoch 271/300, Train loss: 0.3322, Train acc: 87.8307%, Val loss: 0.4808, Val acc: 79.0123%, Best Val loss: 0.4355, Best Val acc: 82.72%\n",
      "Epoch 272/300, Train loss: 0.3324, Train acc: 87.8307%, Val loss: 0.4794, Val acc: 79.0123%, Best Val loss: 0.4355, Best Val acc: 82.72%\n",
      "Epoch 273/300, Train loss: 0.3321, Train acc: 87.8307%, Val loss: 0.4776, Val acc: 79.0123%, Best Val loss: 0.4355, Best Val acc: 82.72%\n",
      "Epoch 274/300, Train loss: 0.3322, Train acc: 87.8307%, Val loss: 0.4781, Val acc: 79.0123%, Best Val loss: 0.4355, Best Val acc: 82.72%\n",
      "Epoch 275/300, Train loss: 0.3333, Train acc: 87.8307%, Val loss: 0.4776, Val acc: 79.0123%, Best Val loss: 0.4355, Best Val acc: 82.72%\n",
      "Epoch 276/300, Train loss: 0.3309, Train acc: 87.8307%, Val loss: 0.4770, Val acc: 79.0123%, Best Val loss: 0.4355, Best Val acc: 82.72%\n",
      "Epoch 277/300, Train loss: 0.3314, Train acc: 87.8307%, Val loss: 0.4761, Val acc: 80.2469%, Best Val loss: 0.4355, Best Val acc: 82.72%\n",
      "Epoch 278/300, Train loss: 0.3318, Train acc: 87.8307%, Val loss: 0.4758, Val acc: 80.2469%, Best Val loss: 0.4355, Best Val acc: 82.72%\n",
      "Epoch 279/300, Train loss: 0.3311, Train acc: 87.8307%, Val loss: 0.4750, Val acc: 80.2469%, Best Val loss: 0.4355, Best Val acc: 82.72%\n",
      "Epoch 280/300, Train loss: 0.3320, Train acc: 87.8307%, Val loss: 0.4750, Val acc: 80.2469%, Best Val loss: 0.4355, Best Val acc: 82.72%\n",
      "Epoch 281/300, Train loss: 0.3318, Train acc: 87.8307%, Val loss: 0.4755, Val acc: 80.2469%, Best Val loss: 0.4355, Best Val acc: 82.72%\n",
      "Epoch 282/300, Train loss: 0.3322, Train acc: 87.8307%, Val loss: 0.4762, Val acc: 80.2469%, Best Val loss: 0.4355, Best Val acc: 82.72%\n",
      "Epoch 283/300, Train loss: 0.3322, Train acc: 87.8307%, Val loss: 0.4767, Val acc: 79.0123%, Best Val loss: 0.4355, Best Val acc: 82.72%\n"
     ]
    },
    {
     "name": "stderr",
     "output_type": "stream",
     "text": [
      "100%|███████████████████████████████████████████████████████████████████████████████| 300/300 [00:02<00:00, 101.84it/s]"
     ]
    },
    {
     "name": "stdout",
     "output_type": "stream",
     "text": [
      "Epoch 284/300, Train loss: 0.3334, Train acc: 87.8307%, Val loss: 0.4774, Val acc: 79.0123%, Best Val loss: 0.4355, Best Val acc: 82.72%\n",
      "Epoch 285/300, Train loss: 0.3323, Train acc: 87.8307%, Val loss: 0.4774, Val acc: 79.0123%, Best Val loss: 0.4355, Best Val acc: 82.72%\n",
      "Epoch 286/300, Train loss: 0.3344, Train acc: 87.8307%, Val loss: 0.4772, Val acc: 79.0123%, Best Val loss: 0.4355, Best Val acc: 82.72%\n",
      "Epoch 287/300, Train loss: 0.3323, Train acc: 87.8307%, Val loss: 0.4776, Val acc: 79.0123%, Best Val loss: 0.4355, Best Val acc: 82.72%\n",
      "Epoch 288/300, Train loss: 0.3302, Train acc: 87.8307%, Val loss: 0.4772, Val acc: 79.0123%, Best Val loss: 0.4355, Best Val acc: 82.72%\n",
      "Epoch 289/300, Train loss: 0.3309, Train acc: 87.8307%, Val loss: 0.4768, Val acc: 79.0123%, Best Val loss: 0.4355, Best Val acc: 82.72%\n",
      "Epoch 290/300, Train loss: 0.3322, Train acc: 87.8307%, Val loss: 0.4766, Val acc: 79.0123%, Best Val loss: 0.4355, Best Val acc: 82.72%\n",
      "Epoch 291/300, Train loss: 0.3307, Train acc: 87.8307%, Val loss: 0.4767, Val acc: 79.0123%, Best Val loss: 0.4355, Best Val acc: 82.72%\n",
      "Epoch 292/300, Train loss: 0.3321, Train acc: 87.8307%, Val loss: 0.4767, Val acc: 79.0123%, Best Val loss: 0.4355, Best Val acc: 82.72%\n",
      "Epoch 293/300, Train loss: 0.3317, Train acc: 87.8307%, Val loss: 0.4767, Val acc: 79.0123%, Best Val loss: 0.4355, Best Val acc: 82.72%\n",
      "Epoch 294/300, Train loss: 0.3324, Train acc: 87.8307%, Val loss: 0.4767, Val acc: 79.0123%, Best Val loss: 0.4355, Best Val acc: 82.72%\n",
      "Epoch 295/300, Train loss: 0.3308, Train acc: 87.8307%, Val loss: 0.4767, Val acc: 79.0123%, Best Val loss: 0.4355, Best Val acc: 82.72%\n",
      "Epoch 296/300, Train loss: 0.3318, Train acc: 87.8307%, Val loss: 0.4768, Val acc: 79.0123%, Best Val loss: 0.4355, Best Val acc: 82.72%\n",
      "Epoch 297/300, Train loss: 0.3321, Train acc: 87.8307%, Val loss: 0.4768, Val acc: 79.0123%, Best Val loss: 0.4355, Best Val acc: 82.72%\n",
      "Epoch 298/300, Train loss: 0.3311, Train acc: 87.8307%, Val loss: 0.4768, Val acc: 79.0123%, Best Val loss: 0.4355, Best Val acc: 82.72%\n",
      "Epoch 299/300, Train loss: 0.3307, Train acc: 87.8307%, Val loss: 0.4768, Val acc: 79.0123%, Best Val loss: 0.4355, Best Val acc: 82.72%\n",
      "Epoch 300/300, Train loss: 0.3314, Train acc: 87.8307%, Val loss: 0.4768, Val acc: 79.0123%, Best Val loss: 0.4355, Best Val acc: 82.72%\n"
     ]
    },
    {
     "name": "stderr",
     "output_type": "stream",
     "text": [
      "\n"
     ]
    }
   ],
   "source": [
    "import torch.optim as optim\n",
    "from torch.optim.lr_scheduler import CosineAnnealingLR\n",
    "from tqdm.auto import tqdm\n",
    "import random\n",
    "\n",
    "# 設定隨機種子\n",
    "seed = 42\n",
    "torch.manual_seed(seed)\n",
    "torch.cuda.manual_seed(seed)\n",
    "torch.cuda.manual_seed_all(seed)\n",
    "random.seed(seed)\n",
    "np.random.seed(seed)\n",
    "\n",
    "# 記錄訓練過程\n",
    "train_losses = []\n",
    "val_losses = []\n",
    "train_accuracies = []\n",
    "val_accuracies = []\n",
    "\n",
    "# 訓練超參數\n",
    "epochs = 300\n",
    "patience = 500 # **Early Stopping 的耐心值**\n",
    "counter = 0  # 追蹤多少個 epoch 沒有改善\n",
    "\n",
    "model = Model().cuda()  # **記得把模型搬到 GPU**\n",
    "criterion = nn.CrossEntropyLoss()\n",
    "optimizer = optim.Adam(model.parameters(), lr=0.001,weight_decay=1e-2)\n",
    "lr_scheduler = CosineAnnealingLR(optimizer, T_max=epochs, eta_min=0)\n",
    "\n",
    "best_val_loss = float('inf')\n",
    "best_val_acc = -1\n",
    "\n",
    "for epoch in tqdm(range(epochs)):\n",
    "    # Training\n",
    "    model.train()\n",
    "    total_loss = 0.0\n",
    "    train_correct = 0\n",
    "    total_train_samples = 0\n",
    "\n",
    "    for features, labels in train_loader:\n",
    "        features, labels = features.cuda(), labels.cuda()  # **確保資料在 GPU**\n",
    "\n",
    "        outputs = model(features)\n",
    "        loss = criterion(outputs, labels)\n",
    "        total_loss += loss.item()\n",
    "\n",
    "        optimizer.zero_grad()\n",
    "        loss.backward()\n",
    "        optimizer.step()\n",
    "\n",
    "        train_predicted = outputs.argmax(-1)\n",
    "        train_correct += (train_predicted == labels).sum().item()\n",
    "        total_train_samples += labels.size(0)\n",
    "\n",
    "    # 更新學習率\n",
    "    lr_scheduler.step()\n",
    "\n",
    "    avg_train_loss = total_loss / len(train_loader)\n",
    "    train_accuracy = 100. * train_correct / total_train_samples\n",
    "\n",
    "    # Validation\n",
    "    model.eval()\n",
    "    total_val_loss = 0.0\n",
    "    correct = 0\n",
    "    total = 0\n",
    "    with torch.no_grad():\n",
    "        for features, labels in val_loader:\n",
    "            features, labels = features.cuda(), labels.cuda()\n",
    "\n",
    "            outputs = model(features)\n",
    "            loss = criterion(outputs, labels)\n",
    "            total_val_loss += loss.item()\n",
    "\n",
    "            predicted = outputs.argmax(-1)\n",
    "            correct += (predicted == labels).sum().item()\n",
    "            total += labels.size(0)\n",
    "\n",
    "    avg_val_loss = total_val_loss / len(val_loader)\n",
    "    val_accuracy = 100. * correct / total\n",
    "\n",
    "    # **Early Stopping**\n",
    "    if avg_val_loss < best_val_loss:\n",
    "        best_val_loss = avg_val_loss\n",
    "        counter = 0  # **重置耐心計數**\n",
    "    else:\n",
    "        counter += 1  # **若沒有改善，計數+1**\n",
    "        if counter >= patience:\n",
    "            print(f\"Early stopping triggered at epoch {epoch+1}\")\n",
    "            break  # **提早結束訓練**\n",
    "\n",
    "    # **儲存最佳模型**\n",
    "    if val_accuracy > best_val_acc:\n",
    "        best_val_acc = val_accuracy\n",
    "        torch.save(model.state_dict(), 'model_classification.pth')\n",
    "\n",
    "    print(f'Epoch {epoch+1}/{epochs}, Train loss: {avg_train_loss:.4f}, Train acc: {train_accuracy:.4f}%, Val loss: {avg_val_loss:.4f}, Val acc: {val_accuracy:.4f}%, Best Val loss: {best_val_loss:.4f}, Best Val acc: {best_val_acc:.2f}%')\n",
    "\n",
    "    # **記錄結果**\n",
    "    train_losses.append(avg_train_loss)\n",
    "    train_accuracies.append(train_accuracy)\n",
    "    val_losses.append(avg_val_loss)\n",
    "    val_accuracies.append(val_accuracy)\n"
   ]
  },
  {
   "cell_type": "code",
   "execution_count": null,
   "id": "28212ccc-0682-4018-bdbb-24bd9e0c3127",
   "metadata": {
    "id": "28212ccc-0682-4018-bdbb-24bd9e0c3127",
    "outputId": "d7183284-d0d4-46c5-d142-6959bea3767d"
   },
   "outputs": [
    {
     "name": "stderr",
     "output_type": "stream",
     "text": [
      "  2%|█▋                                                                                | 3/150 [00:00<00:06, 22.78it/s]"
     ]
    },
    {
     "name": "stdout",
     "output_type": "stream",
     "text": [
      "Epoch 1/150, Train loss: 0.6365, Train acc: 65.0794%, Val loss: 0.6844, Val acc: 51.8519%, Best Val loss: 0.6844, Best Val acc: 51.85%\n",
      "Epoch 2/150, Train loss: 0.5910, Train acc: 74.0741%, Val loss: 0.6631, Val acc: 66.6667%, Best Val loss: 0.6631, Best Val acc: 66.67%\n",
      "Epoch 3/150, Train loss: 0.5708, Train acc: 73.5450%, Val loss: 0.6353, Val acc: 69.1358%, Best Val loss: 0.6353, Best Val acc: 69.14%\n",
      "Epoch 4/150, Train loss: 0.5554, Train acc: 75.1323%, Val loss: 0.6096, Val acc: 66.6667%, Best Val loss: 0.6096, Best Val acc: 69.14%\n",
      "Epoch 5/150, Train loss: 0.5365, Train acc: 78.3069%, Val loss: 0.5917, Val acc: 71.6049%, Best Val loss: 0.5917, Best Val acc: 71.60%\n",
      "Epoch 6/150, Train loss: 0.5065, Train acc: 79.8942%, Val loss: 0.5889, Val acc: 70.3704%, Best Val loss: 0.5889, Best Val acc: 71.60%\n"
     ]
    },
    {
     "name": "stderr",
     "output_type": "stream",
     "text": [
      "  9%|███████                                                                          | 13/150 [00:00<00:04, 30.10it/s]"
     ]
    },
    {
     "name": "stdout",
     "output_type": "stream",
     "text": [
      "Epoch 7/150, Train loss: 0.5009, Train acc: 82.5397%, Val loss: 0.5748, Val acc: 74.0741%, Best Val loss: 0.5748, Best Val acc: 74.07%\n",
      "Epoch 8/150, Train loss: 0.4767, Train acc: 84.1270%, Val loss: 0.5527, Val acc: 75.3086%, Best Val loss: 0.5527, Best Val acc: 75.31%\n",
      "Epoch 9/150, Train loss: 0.4764, Train acc: 80.4233%, Val loss: 0.5493, Val acc: 74.0741%, Best Val loss: 0.5493, Best Val acc: 75.31%\n",
      "Epoch 10/150, Train loss: 0.4562, Train acc: 84.6561%, Val loss: 0.5328, Val acc: 76.5432%, Best Val loss: 0.5328, Best Val acc: 76.54%\n",
      "Epoch 11/150, Train loss: 0.4468, Train acc: 87.8307%, Val loss: 0.5244, Val acc: 75.3086%, Best Val loss: 0.5244, Best Val acc: 76.54%\n",
      "Epoch 12/150, Train loss: 0.4452, Train acc: 86.7725%, Val loss: 0.5466, Val acc: 76.5432%, Best Val loss: 0.5244, Best Val acc: 76.54%\n",
      "Epoch 13/150, Train loss: 0.4201, Train acc: 88.3598%, Val loss: 0.5442, Val acc: 77.7778%, Best Val loss: 0.5244, Best Val acc: 77.78%\n"
     ]
    },
    {
     "name": "stderr",
     "output_type": "stream",
     "text": [
      " 14%|███████████▎                                                                     | 21/150 [00:00<00:03, 33.60it/s]"
     ]
    },
    {
     "name": "stdout",
     "output_type": "stream",
     "text": [
      "Epoch 14/150, Train loss: 0.4040, Train acc: 89.4180%, Val loss: 0.5335, Val acc: 75.3086%, Best Val loss: 0.5244, Best Val acc: 77.78%\n",
      "Epoch 15/150, Train loss: 0.4240, Train acc: 86.7725%, Val loss: 0.5211, Val acc: 76.5432%, Best Val loss: 0.5211, Best Val acc: 77.78%\n",
      "Epoch 16/150, Train loss: 0.4139, Train acc: 85.7143%, Val loss: 0.5101, Val acc: 79.0123%, Best Val loss: 0.5101, Best Val acc: 79.01%\n",
      "Epoch 17/150, Train loss: 0.4074, Train acc: 88.8889%, Val loss: 0.5530, Val acc: 74.0741%, Best Val loss: 0.5101, Best Val acc: 79.01%\n",
      "Epoch 18/150, Train loss: 0.3932, Train acc: 91.5344%, Val loss: 0.5575, Val acc: 74.0741%, Best Val loss: 0.5101, Best Val acc: 79.01%\n",
      "Epoch 19/150, Train loss: 0.3878, Train acc: 90.4762%, Val loss: 0.5307, Val acc: 82.7160%, Best Val loss: 0.5101, Best Val acc: 82.72%\n",
      "Epoch 20/150, Train loss: 0.3865, Train acc: 88.3598%, Val loss: 0.5414, Val acc: 76.5432%, Best Val loss: 0.5101, Best Val acc: 82.72%\n",
      "Epoch 21/150, Train loss: 0.3979, Train acc: 87.3016%, Val loss: 0.5290, Val acc: 80.2469%, Best Val loss: 0.5101, Best Val acc: 82.72%\n"
     ]
    },
    {
     "name": "stderr",
     "output_type": "stream",
     "text": [
      " 19%|███████████████▋                                                                 | 29/150 [00:00<00:03, 35.65it/s]"
     ]
    },
    {
     "name": "stdout",
     "output_type": "stream",
     "text": [
      "Epoch 22/150, Train loss: 0.3803, Train acc: 89.4180%, Val loss: 0.6273, Val acc: 71.6049%, Best Val loss: 0.5101, Best Val acc: 82.72%\n",
      "Epoch 23/150, Train loss: 0.3745, Train acc: 90.4762%, Val loss: 0.6815, Val acc: 72.8395%, Best Val loss: 0.5101, Best Val acc: 82.72%\n",
      "Epoch 24/150, Train loss: 0.3759, Train acc: 88.8889%, Val loss: 0.5462, Val acc: 80.2469%, Best Val loss: 0.5101, Best Val acc: 82.72%\n",
      "Epoch 25/150, Train loss: 0.3460, Train acc: 90.4762%, Val loss: 0.5068, Val acc: 81.4815%, Best Val loss: 0.5068, Best Val acc: 82.72%\n",
      "Epoch 26/150, Train loss: 0.3631, Train acc: 92.0635%, Val loss: 0.6326, Val acc: 71.6049%, Best Val loss: 0.5068, Best Val acc: 82.72%\n",
      "Epoch 27/150, Train loss: 0.3633, Train acc: 92.0635%, Val loss: 0.6141, Val acc: 75.3086%, Best Val loss: 0.5068, Best Val acc: 82.72%\n",
      "Epoch 28/150, Train loss: 0.3458, Train acc: 93.1217%, Val loss: 0.5403, Val acc: 80.2469%, Best Val loss: 0.5068, Best Val acc: 82.72%\n",
      "Epoch 29/150, Train loss: 0.3391, Train acc: 92.0635%, Val loss: 0.5291, Val acc: 76.5432%, Best Val loss: 0.5068, Best Val acc: 82.72%\n",
      "Epoch 30/150, Train loss: 0.3325, Train acc: 93.6508%, Val loss: 0.6090, Val acc: 74.0741%, Best Val loss: 0.5068, Best Val acc: 82.72%\n"
     ]
    },
    {
     "name": "stderr",
     "output_type": "stream",
     "text": [
      " 25%|███████████████████▉                                                             | 37/150 [00:01<00:03, 37.33it/s]"
     ]
    },
    {
     "name": "stdout",
     "output_type": "stream",
     "text": [
      "Epoch 31/150, Train loss: 0.3487, Train acc: 92.5926%, Val loss: 0.6029, Val acc: 76.5432%, Best Val loss: 0.5068, Best Val acc: 82.72%\n",
      "Epoch 32/150, Train loss: 0.3339, Train acc: 93.1217%, Val loss: 0.5887, Val acc: 75.3086%, Best Val loss: 0.5068, Best Val acc: 82.72%\n",
      "Epoch 33/150, Train loss: 0.3600, Train acc: 89.9471%, Val loss: 0.6353, Val acc: 70.3704%, Best Val loss: 0.5068, Best Val acc: 82.72%\n",
      "Epoch 34/150, Train loss: 0.3416, Train acc: 93.6508%, Val loss: 0.5768, Val acc: 75.3086%, Best Val loss: 0.5068, Best Val acc: 82.72%\n",
      "Epoch 35/150, Train loss: 0.3232, Train acc: 92.5926%, Val loss: 0.6462, Val acc: 74.0741%, Best Val loss: 0.5068, Best Val acc: 82.72%\n",
      "Epoch 36/150, Train loss: 0.3310, Train acc: 91.5344%, Val loss: 0.5943, Val acc: 77.7778%, Best Val loss: 0.5068, Best Val acc: 82.72%\n",
      "Epoch 37/150, Train loss: 0.3326, Train acc: 90.4762%, Val loss: 0.5922, Val acc: 79.0123%, Best Val loss: 0.5068, Best Val acc: 82.72%\n",
      "Epoch 38/150, Train loss: 0.3446, Train acc: 92.0635%, Val loss: 0.7363, Val acc: 71.6049%, Best Val loss: 0.5068, Best Val acc: 82.72%\n"
     ]
    },
    {
     "name": "stderr",
     "output_type": "stream",
     "text": [
      " 29%|███████████████████████▊                                                         | 44/150 [00:01<00:03, 33.05it/s]"
     ]
    },
    {
     "name": "stdout",
     "output_type": "stream",
     "text": [
      "Epoch 39/150, Train loss: 0.3278, Train acc: 92.0635%, Val loss: 0.6534, Val acc: 76.5432%, Best Val loss: 0.5068, Best Val acc: 82.72%\n",
      "Epoch 40/150, Train loss: 0.3230, Train acc: 91.5344%, Val loss: 0.7013, Val acc: 74.0741%, Best Val loss: 0.5068, Best Val acc: 82.72%\n",
      "Epoch 41/150, Train loss: 0.3105, Train acc: 95.2381%, Val loss: 0.6276, Val acc: 75.3086%, Best Val loss: 0.5068, Best Val acc: 82.72%\n",
      "Epoch 42/150, Train loss: 0.3248, Train acc: 93.1217%, Val loss: 0.6051, Val acc: 76.5432%, Best Val loss: 0.5068, Best Val acc: 82.72%\n",
      "Epoch 43/150, Train loss: 0.3131, Train acc: 93.1217%, Val loss: 0.7012, Val acc: 74.0741%, Best Val loss: 0.5068, Best Val acc: 82.72%\n",
      "Epoch 44/150, Train loss: 0.3371, Train acc: 91.0053%, Val loss: 0.6731, Val acc: 76.5432%, Best Val loss: 0.5068, Best Val acc: 82.72%\n",
      "Early stopping triggered at epoch 45\n"
     ]
    },
    {
     "name": "stderr",
     "output_type": "stream",
     "text": [
      "\n"
     ]
    }
   ],
   "source": [
    "import torch.optim as optim\n",
    "from torch.optim.lr_scheduler import CosineAnnealingLR\n",
    "from tqdm.auto import tqdm\n",
    "import random\n",
    "\n",
    "# 設定隨機種子\n",
    "seed = 42\n",
    "torch.manual_seed(seed)\n",
    "torch.cuda.manual_seed(seed)\n",
    "torch.cuda.manual_seed_all(seed)\n",
    "random.seed(seed)\n",
    "np.random.seed(seed)\n",
    "\n",
    "# 記錄訓練過程\n",
    "train_losses = []\n",
    "val_losses = []\n",
    "train_accuracies = []\n",
    "val_accuracies = []\n",
    "\n",
    "# 訓練超參數\n",
    "epochs = 150\n",
    "patience = 20  # **Early Stopping 的耐心值**\n",
    "counter = 0  # 追蹤多少個 epoch 沒有改善\n",
    "\n",
    "model = Model().cuda()  # **記得把模型搬到 GPU**\n",
    "criterion = nn.CrossEntropyLoss(label_smoothing=0.1)  # Label Smoothing\n",
    "optimizer = optim.Adam(model.parameters(), lr=1e-3, weight_decay=1e-3)\n",
    "lr_scheduler = CosineAnnealingLR(optimizer, T_max=epochs, eta_min=0)\n",
    "\n",
    "best_val_loss = float('inf')\n",
    "best_val_acc = -1\n",
    "\n",
    "for epoch in tqdm(range(epochs)):\n",
    "    # Training\n",
    "    model.train()\n",
    "    total_loss = 0.0\n",
    "    train_correct = 0\n",
    "    total_train_samples = 0\n",
    "\n",
    "    for features, labels in train_loader:\n",
    "        features, labels = features.cuda(), labels.cuda()  # **確保資料在 GPU**\n",
    "\n",
    "        outputs = model(features)\n",
    "        loss = criterion(outputs, labels)\n",
    "        total_loss += loss.item()\n",
    "\n",
    "        optimizer.zero_grad()\n",
    "        loss.backward()\n",
    "        optimizer.step()\n",
    "\n",
    "        train_predicted = outputs.argmax(-1)\n",
    "        train_correct += (train_predicted == labels).sum().item()\n",
    "        total_train_samples += labels.size(0)\n",
    "\n",
    "    # 更新學習率\n",
    "    lr_scheduler.step()\n",
    "\n",
    "    avg_train_loss = total_loss / len(train_loader)\n",
    "    train_accuracy = 100. * train_correct / total_train_samples\n",
    "\n",
    "    # Validation\n",
    "    model.eval()\n",
    "    total_val_loss = 0.0\n",
    "    correct = 0\n",
    "    total = 0\n",
    "    with torch.no_grad():\n",
    "        for features, labels in val_loader:\n",
    "            features, labels = features.cuda(), labels.cuda()\n",
    "\n",
    "            outputs = model(features)\n",
    "            loss = criterion(outputs, labels)\n",
    "            total_val_loss += loss.item()\n",
    "\n",
    "            predicted = outputs.argmax(-1)\n",
    "            correct += (predicted == labels).sum().item()\n",
    "            total += labels.size(0)\n",
    "\n",
    "    avg_val_loss = total_val_loss / len(val_loader)\n",
    "    val_accuracy = 100. * correct / total\n",
    "\n",
    "    # **Early Stopping**\n",
    "    if avg_val_loss < best_val_loss:\n",
    "        best_val_loss = avg_val_loss\n",
    "        counter = 0  # **重置耐心計數**\n",
    "    else:\n",
    "        counter += 1  # **若沒有改善，計數+1**\n",
    "        if counter >= patience:\n",
    "            print(f\"Early stopping triggered at epoch {epoch+1}\")\n",
    "            break  # **提早結束訓練**\n",
    "\n",
    "    # **儲存最佳模型**\n",
    "    if val_accuracy > best_val_acc:\n",
    "        best_val_acc = val_accuracy\n",
    "        torch.save(model.state_dict(), 'model_classification.pth')\n",
    "\n",
    "    print(f'Epoch {epoch+1}/{epochs}, Train loss: {avg_train_loss:.4f}, Train acc: {train_accuracy:.4f}%, Val loss: {avg_val_loss:.4f}, Val acc: {val_accuracy:.4f}%, Best Val loss: {best_val_loss:.4f}, Best Val acc: {best_val_acc:.2f}%')\n",
    "\n",
    "    # **記錄結果**\n",
    "    train_losses.append(avg_train_loss)\n",
    "    train_accuracies.append(train_accuracy)\n",
    "    val_losses.append(avg_val_loss)\n",
    "    val_accuracies.append(val_accuracy)"
   ]
  },
  {
   "cell_type": "markdown",
   "id": "a7984c6e-6652-4160-b572-07d48bc93a3f",
   "metadata": {
    "id": "a7984c6e-6652-4160-b572-07d48bc93a3f"
   },
   "source": [
    "#### Visualizing the model performance"
   ]
  },
  {
   "cell_type": "code",
   "execution_count": null,
   "id": "5559d850-1fb5-4b04-b6ca-60c5b309f34e",
   "metadata": {
    "colab": {
     "base_uri": "https://localhost:8080/",
     "height": 487
    },
    "id": "5559d850-1fb5-4b04-b6ca-60c5b309f34e",
    "outputId": "762f75fa-486b-4429-f371-ac131671ae94"
   },
   "outputs": [
    {
     "data": {
      "image/png": "[encoded data removed]",
      "text/plain": [
       "<Figure size 1500x500 with 2 Axes>"
      ]
     },
     "metadata": {},
     "output_type": "display_data"
    }
   ],
   "source": [
    "import matplotlib.pyplot as plt\n",
    "\n",
    "fig, ax = plt.subplots(1, 2, figsize=(15, 5))\n",
    "\n",
    "# Plotting training and validation accuracy\n",
    "ax[0].plot(train_accuracies)\n",
    "ax[0].plot(val_accuracies)\n",
    "ax[0].set_title('Model Accuracy')\n",
    "ax[0].set_xlabel('Epochs')\n",
    "ax[0].set_ylabel('Accuracy')\n",
    "ax[0].legend(['Train', 'Val'])\n",
    "\n",
    "# Plotting training and validation loss\n",
    "ax[1].plot(train_losses)\n",
    "ax[1].plot(val_losses)\n",
    "ax[1].set_title('Model Loss')\n",
    "ax[1].set_xlabel('Epochs')\n",
    "ax[1].set_ylabel('Loss')\n",
    "ax[1].legend(['Train', 'Val'])\n",
    "\n",
    "plt.show()"
   ]
  },
  {
   "cell_type": "markdown",
   "id": "89c7e51b-8ab6-4aa2-877d-39b6daf55c20",
   "metadata": {
    "id": "89c7e51b-8ab6-4aa2-877d-39b6daf55c20"
   },
   "source": [
    "## D. Evaluating Your Trained Model"
   ]
  },
  {
   "cell_type": "code",
   "execution_count": null,
   "id": "f49735d7-466f-4037-8078-172f03dffd8d",
   "metadata": {
    "id": "f49735d7-466f-4037-8078-172f03dffd8d"
   },
   "outputs": [],
   "source": [
    "# read test file\n",
    "#test_data = pd.read_csv('/content/drive/MyDrive/heart_dataset_test.csv')\n",
    "test_data = pd.read_csv('heart_dataset_test.csv')\n",
    "test_data.head()\n",
    "test_data = test_data.drop(columns=[\"chol\", \"fbs\", \"restecg\", \"trestbps\"])"
   ]
  },
  {
   "cell_type": "code",
   "execution_count": null,
   "id": "21ae9d85-0dc2-4db0-a7c7-807c6b6c514f",
   "metadata": {
    "colab": {
     "base_uri": "https://localhost:8080/",
     "height": 397
    },
    "id": "21ae9d85-0dc2-4db0-a7c7-807c6b6c514f",
    "outputId": "96c3e746-4021-4923-93c1-4e5510904d72"
   },
   "outputs": [
    {
     "data": {
      "text/plain": [
       "age        0\n",
       "sex        0\n",
       "cp         0\n",
       "thalach    0\n",
       "exang      0\n",
       "oldpeak    0\n",
       "slope      0\n",
       "ca         0\n",
       "thal       0\n",
       "target     0\n",
       "dtype: int64"
      ]
     },
     "execution_count": 31,
     "metadata": {},
     "output_type": "execute_result"
    }
   ],
   "source": [
    "test_data.isnull().sum()"
   ]
  },
  {
   "cell_type": "code",
   "execution_count": null,
   "id": "5ff2812b-a5a5-4ea9-86be-ae2143cb2ba7",
   "metadata": {
    "colab": {
     "base_uri": "https://localhost:8080/"
    },
    "id": "5ff2812b-a5a5-4ea9-86be-ae2143cb2ba7",
    "outputId": "8521adb0-6e2b-46e9-a787-1015ebdb751f"
   },
   "outputs": [
    {
     "data": {
      "text/plain": [
       "(31, 10)"
      ]
     },
     "execution_count": 32,
     "metadata": {},
     "output_type": "execute_result"
    }
   ],
   "source": [
    "test_data = test_data.values\n",
    "test_data.shape"
   ]
  },
  {
   "cell_type": "code",
   "execution_count": null,
   "id": "14d4be20-f64f-421d-8971-e1e47873aef8",
   "metadata": {
    "id": "14d4be20-f64f-421d-8971-e1e47873aef8"
   },
   "outputs": [],
   "source": [
    "# Convert to PyTorch tensors\n",
    "x_test = torch.from_numpy(test_data[:, :9]).float()\n",
    "y_test = torch.from_numpy(test_data[:, 9]).long()\n",
    "\n",
    "# Create datasets\n",
    "test_dataset = TensorDataset(x_test, y_test)\n",
    "\n",
    "# Create dataloaders\n",
    "test_loader = DataLoader(test_dataset, batch_size=1, shuffle=False)"
   ]
  },
  {
   "cell_type": "code",
   "execution_count": null,
   "id": "076b2593-9880-4459-a9e7-bc0fa33c3a50",
   "metadata": {
    "id": "076b2593-9880-4459-a9e7-bc0fa33c3a50",
    "outputId": "94185ee1-8f07-4215-f6e9-ea8088136d09"
   },
   "outputs": [
    {
     "name": "stdout",
     "output_type": "stream",
     "text": [
      "Test accuracy is 87.09677419354838%\n"
     ]
    },
    {
     "name": "stderr",
     "output_type": "stream",
     "text": [
      "C:\\Users\\user\\AppData\\Local\\Temp\\ipykernel_17324\\1852124976.py:2: FutureWarning: You are using `torch.load` with `weights_only=False` (the current default value), which uses the default pickle module implicitly. It is possible to construct malicious pickle data which will execute arbitrary code during unpickling (See https://github.com/pytorch/pytorch/blob/main/SECURITY.md#untrusted-models for more details). In a future release, the default value for `weights_only` will be flipped to `True`. This limits the functions that could be executed during unpickling. Arbitrary objects will no longer be allowed to be loaded via this mode unless they are explicitly allowlisted by the user via `torch.serialization.add_safe_globals`. We recommend you start setting `weights_only=True` for any use case where you don't have full control of the loaded file. Please open an issue on GitHub for any issues related to this experimental feature.\n",
      "  model.load_state_dict(torch.load('model_classification.pth'))\n"
     ]
    }
   ],
   "source": [
    "# Load the trained weights\n",
    "model.load_state_dict(torch.load('model_classification.pth'))\n",
    "\n",
    "# Set the model to evaluation mode\n",
    "model.eval()\n",
    "\n",
    "test_correct = 0\n",
    "test_total = 0\n",
    "\n",
    "with torch.no_grad():\n",
    "    for features, labels in test_loader:\n",
    "\n",
    "        features = features.cuda()\n",
    "        labels = labels.cuda()\n",
    "\n",
    "        outputs = model(features)\n",
    "\n",
    "        predicted = outputs.argmax(-1)\n",
    "        test_correct += (predicted == labels).sum().item()\n",
    "        test_total += labels.size(0)\n",
    "\n",
    "print(f'Test accuracy is {100. * test_correct / test_total}%')"
   ]
  },
  {
   "cell_type": "code",
   "execution_count": null,
   "id": "4bcf8580-42ee-4ee7-ad15-9f080cc57a33",
   "metadata": {
    "colab": {
     "base_uri": "https://localhost:8080/"
    },
    "id": "4bcf8580-42ee-4ee7-ad15-9f080cc57a33",
    "outputId": "4406ec08-a06d-4d3f-ae84-6691db42b7df"
   },
   "outputs": [
    {
     "name": "stdout",
     "output_type": "stream",
     "text": [
      "Test accuracy is 87.09677419354838%\n"
     ]
    },
    {
     "name": "stderr",
     "output_type": "stream",
     "text": [
      "C:\\Users\\user\\AppData\\Local\\Temp\\ipykernel_9552\\1852124976.py:2: FutureWarning: You are using `torch.load` with `weights_only=False` (the current default value), which uses the default pickle module implicitly. It is possible to construct malicious pickle data which will execute arbitrary code during unpickling (See https://github.com/pytorch/pytorch/blob/main/SECURITY.md#untrusted-models for more details). In a future release, the default value for `weights_only` will be flipped to `True`. This limits the functions that could be executed during unpickling. Arbitrary objects will no longer be allowed to be loaded via this mode unless they are explicitly allowlisted by the user via `torch.serialization.add_safe_globals`. We recommend you start setting `weights_only=True` for any use case where you don't have full control of the loaded file. Please open an issue on GitHub for any issues related to this experimental feature.\n",
      "  model.load_state_dict(torch.load('model_classification.pth'))\n"
     ]
    }
   ],
   "source": [
    "# Load the trained weights\n",
    "model.load_state_dict(torch.load('model_classification.pth'))\n",
    "\n",
    "# Set the model to evaluation mode\n",
    "model.eval()\n",
    "\n",
    "test_correct = 0\n",
    "test_total = 0\n",
    "\n",
    "with torch.no_grad():\n",
    "    for features, labels in test_loader:\n",
    "\n",
    "        features = features.cuda()\n",
    "        labels = labels.cuda()\n",
    "\n",
    "        outputs = model(features)\n",
    "\n",
    "        predicted = outputs.argmax(-1)\n",
    "        test_correct += (predicted == labels).sum().item()\n",
    "        test_total += labels.size(0)\n",
    "\n",
    "print(f'Test accuracy is {100. * test_correct / test_total}%')"
   ]
  },
  {
   "cell_type": "code",
   "execution_count": 1,
   "id": "1f54a36a-e877-4791-bc6a-9e9b33c1849a",
   "metadata": {
    "colab": {
     "base_uri": "https://localhost:8080/"
    },
    "executionInfo": {
     "elapsed": 20700,
     "status": "ok",
     "timestamp": 1744376067042,
     "user": {
      "displayName": "孫秉新 SUN PING HSIN H34091194",
      "userId": "14297014278274745085"
     },
     "user_tz": -480
    },
    "id": "1f54a36a-e877-4791-bc6a-9e9b33c1849a",
    "outputId": "c6cbe5e5-39a2-4ae5-da12-e23673e8d295"
   },
   "outputs": [
    {
     "name": "stdout",
     "output_type": "stream",
     "text": [
      "Mounted at /content/drive/\n"
     ]
    }
   ],
   "source": [
    "import nbformat\n",
    "from google.colab import drive\n",
    "\n",
    "drive.mount('/content/drive/')"
   ]
  },
  {
   "cell_type": "code",
   "execution_count": null,
   "id": "a6b96c2c",
   "metadata": {
    "id": "a6b96c2c"
   },
   "outputs": [],
   "source": [
    "# Define the path to the original notebook\n",
    "notebook_path = '/content/drive/MyDrive/PhD/113 DLIA/HW2/lab2.ipynb'\n",
    "\n",
    "# Define the path for the cleaned output notebook\n",
    "cleaned_path = '/content/drive/MyDrive/PhD/113 DLIA/HW/lab3_clean.ipynb'\n",
    "\n",
    "# Load the notebook from the specified path\n",
    "with open(notebook_path, 'r', encoding='utf-8') as f:\n",
    "    nb = nbformat.read(f, as_version=4)\n",
    "\n",
    "# Remove widget metadata to prevent GitHub rendering issues\n",
    "if 'widgets' in nb['metadata']:\n",
    "    del nb['metadata']['widgets']\n",
    "\n",
    "# Save the cleaned notebook to the specified path\n",
    "with open(cleaned_path, 'w', encoding='utf-8') as f:\n",
    "    nbformat.write(nb, f)"
   ]
  },
  {
   "cell_type": "code",
   "execution_count": null,
   "id": "d9de6d42",
   "metadata": {
    "id": "d9de6d42"
   },
   "outputs": [],
   "source": []
  }
 ],
 "metadata": {
  "accelerator": "GPU",
  "colab": {
   "gpuType": "T4",
   "provenance": []
  },
  "kernelspec": {
   "display_name": "Python 3 (ipykernel)",
   "language": "python",
   "name": "python3"
  },
  "language_info": {
   "codemirror_mode": {
    "name": "ipython",
    "version": 3
   },
   "file_extension": ".py",
   "mimetype": "text/x-python",
   "name": "python",
   "nbconvert_exporter": "python",
   "pygments_lexer": "ipython3",
   "version": "3.9.12"
  }
 },
 "nbformat": 4,
 "nbformat_minor": 5
}
